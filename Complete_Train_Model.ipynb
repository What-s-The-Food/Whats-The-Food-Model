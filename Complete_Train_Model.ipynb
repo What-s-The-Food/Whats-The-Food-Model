{
 "cells": [
  {
   "cell_type": "markdown",
   "id": "cd3ecbd1",
   "metadata": {},
   "source": [
    "# <center>Capstone Project - What's The Food<center>"
   ]
  },
  {
   "cell_type": "markdown",
   "id": "bb53bf31",
   "metadata": {},
   "source": [
    "### Import Libraries"
   ]
  },
  {
   "cell_type": "code",
   "execution_count": 23,
   "id": "b29d4bf7",
   "metadata": {},
   "outputs": [],
   "source": [
    "import os\n",
    "import tensorflow as tf\n",
    "import matplotlib.pyplot as plt\n",
    "import PIL\n",
    "import tensorflow_hub as hub\n",
    "from keras_preprocessing.image import ImageDataGenerator\n",
    "from tensorflow.keras.preprocessing.image import img_to_array, load_img\n",
    "from PIL import Image, ImageFile, UnidentifiedImageError\n",
    "from bing_image_downloader import downloader\n",
    "from pathlib import Path\n",
    "ImageFile.LOAD_TRUNCATED_IMAGES = True"
   ]
  },
  {
   "cell_type": "markdown",
   "id": "bc657d3b",
   "metadata": {},
   "source": [
    "### Training Directory"
   ]
  },
  {
   "cell_type": "code",
   "execution_count": 24,
   "id": "e79e08bb",
   "metadata": {},
   "outputs": [],
   "source": [
    "train_dir = 'food_images/train'\n",
    "\n",
    "train_dir_ayam = os.path.join(train_dir, 'ayam_goreng')\n",
    "train_dir_bakso = os.path.join(train_dir, 'bakso')\n",
    "train_dir_batagor = os.path.join(train_dir, 'batagor')\n",
    "train_dir_bubur = os.path.join(train_dir, 'bubur')\n",
    "train_dir_burger = os.path.join(train_dir, 'burger')\n",
    "train_dir_capcay = os.path.join(train_dir, 'capcay')\n",
    "train_dir_crepes = os.path.join(train_dir, 'crepes')\n",
    "train_dir_cumi = os.path.join(train_dir, 'cumi_goreng_tepung')\n",
    "train_dir_fu_yung_hai = os.path.join(train_dir, 'fu_yung_hai')\n",
    "train_dir_gado_gado = os.path.join(train_dir, 'gado_gado')\n",
    "train_dir_gudeg = os.path.join(train_dir, 'gudeg')\n",
    "train_dir_ikan = os.path.join(train_dir, 'ikan_bakar')\n",
    "train_dir_kebab = os.path.join(train_dir, 'kebab')\n",
    "train_dir_rendang = os.path.join(train_dir, 'rendang')\n",
    "train_dir_sate = os.path.join(train_dir, 'sate')"
   ]
  },
  {
   "cell_type": "markdown",
   "id": "8f319d1f",
   "metadata": {},
   "source": [
    "### Testing Directory"
   ]
  },
  {
   "cell_type": "code",
   "execution_count": 25,
   "id": "c39a5720",
   "metadata": {},
   "outputs": [],
   "source": [
    "test_dir = 'food_images/test'\n",
    "\n",
    "test_dir_ayam = os.path.join(test_dir, 'ayam_goreng')\n",
    "test_dir_bakso = os.path.join(test_dir, 'bakso')\n",
    "test_dir_batagor = os.path.join(test_dir, 'batagor')\n",
    "test_dir_bubur = os.path.join(test_dir, 'bubur')\n",
    "test_dir_burger = os.path.join(test_dir, 'burger')\n",
    "test_dir_capcay = os.path.join(test_dir, 'capcay')\n",
    "test_dir_crepes = os.path.join(test_dir, 'crepes')\n",
    "test_dir_cumi = os.path.join(test_dir, 'cumi_goreng_tepung')\n",
    "test_dir_fu_yung_hai = os.path.join(test_dir, 'fu_yung_hai')\n",
    "test_dir_gado_gado = os.path.join(test_dir, 'gado_gado')\n",
    "test_dir_gudeg = os.path.join(test_dir, 'gudeg')\n",
    "test_dir_ikan = os.path.join(test_dir, 'ikan_bakar')\n",
    "test_dir_kebab = os.path.join(test_dir, 'kebab')\n",
    "test_dir_rendang = os.path.join(test_dir, 'rendang')\n",
    "test_dir_sate = os.path.join(test_dir, 'sate')"
   ]
  },
  {
   "cell_type": "markdown",
   "id": "d2a95fba",
   "metadata": {},
   "source": [
    "### Number of Images for Each Train and Test Class"
   ]
  },
  {
   "cell_type": "code",
   "execution_count": 26,
   "id": "3952bbcb",
   "metadata": {},
   "outputs": [
    {
     "name": "stdout",
     "output_type": "stream",
     "text": [
      "\n",
      "Total training ayam goreng images: 500\n",
      "Total validation ayam goreng images: 200\n",
      "\n",
      "Total training bakso images: 500\n",
      "Total validation bakso images: 200\n",
      "\n",
      "Total training batagor images: 493\n",
      "Total validation batagor images: 198\n",
      "\n",
      "Total training bubur images: 499\n",
      "Total validation bubur images: 200\n",
      "\n",
      "Total training burger images: 496\n",
      "Total validation burger images: 199\n",
      "\n",
      "Total training capcay images: 497\n",
      "Total validation capcay images: 198\n",
      "\n",
      "Total training crepes images: 496\n",
      "Total validation crepes images: 199\n",
      "\n",
      "Total training cumi goreng tepung images: 500\n",
      "Total validation cumi goreng tepung images: 200\n",
      "\n",
      "Total training fu yung hai images: 500\n",
      "Total validation fu yung hai images: 200\n",
      "\n",
      "Total training gado gado images: 500\n",
      "Total validation gado gado images: 200\n",
      "\n",
      "Total training gudeg images: 500\n",
      "Total validation gudeg images: 198\n",
      "\n",
      "Total training ikan bakar images: 498\n",
      "Total validation ikan bakar images: 200\n",
      "\n",
      "Total training kebab images: 493\n",
      "Total validation kebab images: 199\n",
      "\n",
      "Total training rendang images: 500\n",
      "Total validation rendang images: 200\n",
      "\n",
      "Total training sate images: 500\n",
      "Total validation sate images: 200\n"
     ]
    }
   ],
   "source": [
    "print('\\nTotal training ayam goreng images:', len(os.listdir(train_dir_ayam)))\n",
    "print('Total validation ayam goreng images:', len(os.listdir(test_dir_ayam)))\n",
    "\n",
    "print('\\nTotal training bakso images:', len(os.listdir(train_dir_bakso)))\n",
    "print('Total validation bakso images:', len(os.listdir(test_dir_bakso)))\n",
    "\n",
    "print('\\nTotal training batagor images:', len(os.listdir(train_dir_batagor)))\n",
    "print('Total validation batagor images:', len(os.listdir(test_dir_batagor)))\n",
    "\n",
    "print('\\nTotal training bubur images:', len(os.listdir(train_dir_bubur)))\n",
    "print('Total validation bubur images:', len(os.listdir(test_dir_bubur)))\n",
    "\n",
    "print('\\nTotal training burger images:', len(os.listdir(train_dir_burger)))\n",
    "print('Total validation burger images:', len(os.listdir(test_dir_burger)))\n",
    "\n",
    "print('\\nTotal training capcay images:', len(os.listdir(train_dir_capcay)))\n",
    "print('Total validation capcay images:', len(os.listdir(test_dir_capcay)))\n",
    "\n",
    "print('\\nTotal training crepes images:', len(os.listdir(train_dir_crepes)))\n",
    "print('Total validation crepes images:', len(os.listdir(test_dir_crepes)))\n",
    "\n",
    "print('\\nTotal training cumi goreng tepung images:', len(os.listdir(train_dir_cumi)))\n",
    "print('Total validation cumi goreng tepung images:', len(os.listdir(test_dir_cumi)))\n",
    "\n",
    "print('\\nTotal training fu yung hai images:', len(os.listdir(train_dir_fu_yung_hai)))\n",
    "print('Total validation fu yung hai images:', len(os.listdir(test_dir_fu_yung_hai)))\n",
    "\n",
    "print('\\nTotal training gado gado images:', len(os.listdir(train_dir_gado_gado)))\n",
    "print('Total validation gado gado images:', len(os.listdir(test_dir_gado_gado)))\n",
    "\n",
    "print('\\nTotal training gudeg images:', len(os.listdir(train_dir_gudeg)))\n",
    "print('Total validation gudeg images:', len(os.listdir(test_dir_gudeg)))\n",
    "\n",
    "print('\\nTotal training ikan bakar images:', len(os.listdir(train_dir_ikan)))\n",
    "print('Total validation ikan bakar images:', len(os.listdir(test_dir_ikan)))\n",
    "\n",
    "print('\\nTotal training kebab images:', len(os.listdir(train_dir_kebab)))\n",
    "print('Total validation kebab images:', len(os.listdir(test_dir_kebab)))\n",
    "\n",
    "print('\\nTotal training rendang images:', len(os.listdir(train_dir_rendang)))\n",
    "print('Total validation rendang images:', len(os.listdir(test_dir_rendang)))\n",
    "\n",
    "print('\\nTotal training sate images:', len(os.listdir(train_dir_sate)))\n",
    "print('Total validation sate images:', len(os.listdir(test_dir_sate)))"
   ]
  },
  {
   "cell_type": "markdown",
   "id": "5ef7048a",
   "metadata": {},
   "source": [
    "### Downloading Extra Datasets"
   ]
  },
  {
   "cell_type": "code",
   "execution_count": 169,
   "id": "af135a02",
   "metadata": {
    "scrolled": true
   },
   "outputs": [
    {
     "name": "stdout",
     "output_type": "stream",
     "text": [
      "[%] Downloading Images to D:\\TC\\Jupyter Notebook\\Capstone Project\\food_images\\train\\kebab\\kebab.jpg\n",
      "\n",
      "\n",
      "[!!]Indexing page: 1\n",
      "\n",
      "[%] Indexed 39 Images on Page 1.\n",
      "\n",
      "===============================================\n",
      "\n",
      "[%] Downloading Image #1 from https://vignette.wikia.nocookie.net/micronations/images/0/09/Kebab_%26_Chips.jpg/revision/latest/scale-to-width-down/2000?cb=20130226113027\n",
      "[%] File Downloaded !\n",
      "\n",
      "[%] Downloading Image #2 from https://www.gourmetkebab.es/wp-content/uploads/2019/09/doner-kebab-shawarma.jpg\n",
      "[%] File Downloaded !\n",
      "\n",
      "[%] Downloading Image #3 from https://thumbs.dreamstime.com/b/doner-kebab-grilled-meat-bread-vegetables-39463283.jpg\n",
      "[%] File Downloaded !\n",
      "\n",
      "[%] Downloading Image #4 from https://external-preview.redd.it/dhOW7zxfGVyUwUaEQAp4UJuEF5KU24d1KjjJtaqoYL8.jpg?auto=webp&amp;s=1796795c6f24e9b0f782151b1bd51e9ba8324e34\n",
      "[!] Issue getting: https://external-preview.redd.it/dhOW7zxfGVyUwUaEQAp4UJuEF5KU24d1KjjJtaqoYL8.jpg?auto=webp&amp;s=1796795c6f24e9b0f782151b1bd51e9ba8324e34\n",
      "[!] Error:: HTTP Error 403: Forbidden\n",
      "[%] Downloading Image #4 from https://thumbs.dreamstime.com/z/doner-kebab-isolated-white-background-doner-kebab-white-background-146756503.jpg\n",
      "[%] File Downloaded !\n",
      "\n",
      "[%] Downloading Image #5 from https://prod-wolt-venue-images-cdn.wolt.com/5ce2b224f2155f8ff15181b5/df78331ea978fb37d36319dd38e3fe08\n",
      "[Error]Invalid image, not saving https://prod-wolt-venue-images-cdn.wolt.com/5ce2b224f2155f8ff15181b5/df78331ea978fb37d36319dd38e3fe08\n",
      "\n",
      "[!] Issue getting: https://prod-wolt-venue-images-cdn.wolt.com/5ce2b224f2155f8ff15181b5/df78331ea978fb37d36319dd38e3fe08\n",
      "[!] Error:: Invalid image, not saving https://prod-wolt-venue-images-cdn.wolt.com/5ce2b224f2155f8ff15181b5/df78331ea978fb37d36319dd38e3fe08\n",
      "\n",
      "[%] Downloading Image #5 from https://www.umeamarket.se/wp-content/uploads/2019/02/cropped-kebab.jpg\n",
      "[%] File Downloaded !\n",
      "\n",
      "[%] Downloading Image #6 from https://thumbs.dreamstime.com/z/berliner-doner-kebab-135431555.jpg\n",
      "[%] File Downloaded !\n",
      "\n",
      "[%] Downloading Image #7 from https://thumbs.dreamstime.com/b/doner-kebab-auf-weiß-5744988.jpg\n",
      "[!] Issue getting: https://thumbs.dreamstime.com/b/doner-kebab-auf-weiß-5744988.jpg\n",
      "[!] Error:: 'ascii' codec can't encode character '\\xdf' in position 26: ordinal not in range(128)\n",
      "[%] Downloading Image #7 from https://image.freepik.com/free-photo/doner-kebab-is-lying-cutting-board-shawarma-with-meat-onions-salad-lies-dark-old-wooden-table_120795-12.jpg\n",
      "[%] File Downloaded !\n",
      "\n",
      "[%] Downloading Image #8 from https://st3.depositphotos.com/1000605/17011/i/950/depositphotos_170115058-stock-photo-grilled-kebab-mix.jpg\n",
      "[%] File Downloaded !\n",
      "\n",
      "[%] Downloading Image #9 from http://blog.unitee.eu/wp-content/uploads/2015/03/KEBABlog.jpg\n",
      "[%] File Downloaded !\n",
      "\n",
      "[%] Downloading Image #10 from https://thumbs.dreamstime.com/b/turkish-doner-kebab-shawarma-still-life-33672202.jpg\n",
      "[%] File Downloaded !\n",
      "\n",
      "[%] Downloading Image #11 from https://freepngimg.com/thumb/grocery/56195-2-kebab-image-free-transparent-image-hd.png\n",
      "[!] Issue getting: https://freepngimg.com/thumb/grocery/56195-2-kebab-image-free-transparent-image-hd.png\n",
      "[!] Error:: <urlopen error [SSL: CERTIFICATE_VERIFY_FAILED] certificate verify failed: certificate has expired (_ssl.c:1125)>\n",
      "[%] Downloading Image #11 from https://i.pinimg.com/originals/06/f7/48/06f7488a8324b0da34d5685c7e2e46db.jpg\n",
      "[%] File Downloaded !\n",
      "\n",
      "[%] Downloading Image #12 from https://upload.wikimedia.org/wikipedia/commons/thumb/5/5e/Kebab_in_Warsaw.jpg/800px-Kebab_in_Warsaw.jpg\n",
      "[%] File Downloaded !\n",
      "\n",
      "[%] Downloading Image #13 from https://freepngimg.com/thumb/grocery/56185-8-kebab-image-free-download-png-hq.png\n",
      "[!] Issue getting: https://freepngimg.com/thumb/grocery/56185-8-kebab-image-free-download-png-hq.png\n",
      "[!] Error:: <urlopen error [SSL: CERTIFICATE_VERIFY_FAILED] certificate verify failed: certificate has expired (_ssl.c:1125)>\n",
      "[%] Downloading Image #13 from https://upload.wikimedia.org/wikipedia/commons/thumb/1/17/An_Arab_kebab.jpg/716px-An_Arab_kebab.jpg\n",
      "[%] File Downloaded !\n",
      "\n",
      "[%] Downloading Image #14 from https://i.pinimg.com/736x/3f/79/74/3f7974ce9908a1e1bdccd67d8854f155--toulouse-france-la-france.jpg\n",
      "[%] File Downloaded !\n",
      "\n",
      "[%] Downloading Image #15 from https://st3.depositphotos.com/1020618/13308/i/1600/depositphotos_133081938-stock-photo-close-up-of-kebab-sandwich.jpg\n",
      "[%] File Downloaded !\n",
      "\n",
      "[%] Downloading Image #16 from https://thumbs.dreamstime.com/b/pita-kebab-burrito-appetizing-isolated-white-background-appetizing-48824450.jpg\n",
      "[%] File Downloaded !\n",
      "\n",
      "[%] Downloading Image #17 from https://www.mahmya.com/wp-content/uploads/2019/11/Shish-Kebab-blog-2-686x1030.jpg\n",
      "[%] File Downloaded !\n",
      "\n",
      "[%] Downloading Image #18 from https://upload.wikimedia.org/wikipedia/commons/thumb/a/a5/Various_kebab.jpg/1200px-Various_kebab.jpg\n",
      "[Error]Invalid image, not saving https://upload.wikimedia.org/wikipedia/commons/thumb/a/a5/Various_kebab.jpg/1200px-Various_kebab.jpg\n",
      "\n",
      "[!] Issue getting: https://upload.wikimedia.org/wikipedia/commons/thumb/a/a5/Various_kebab.jpg/1200px-Various_kebab.jpg\n",
      "[!] Error:: Invalid image, not saving https://upload.wikimedia.org/wikipedia/commons/thumb/a/a5/Various_kebab.jpg/1200px-Various_kebab.jpg\n",
      "\n",
      "[%] Downloading Image #18 from https://image.freepik.com/free-photo/close-up-lamb-doner-kebab-with-rice-flatbread_140725-3905.jpg\n",
      "[%] File Downloaded !\n",
      "\n",
      "[%] Downloading Image #19 from https://www.goodchefbadchef.com.au/wp-content/uploads/2014/12/Kangaroo_Kebabs.jpg\n",
      "[!] Issue getting: https://www.goodchefbadchef.com.au/wp-content/uploads/2014/12/Kangaroo_Kebabs.jpg\n",
      "[!] Error:: <urlopen error [SSL: CERTIFICATE_VERIFY_FAILED] certificate verify failed: certificate has expired (_ssl.c:1125)>\n",
      "[%] Downloading Image #19 from https://upload.wikimedia.org/wikipedia/commons/thumb/7/79/Manisa_kebab.jpg/800px-Manisa_kebab.jpg\n",
      "[Error]Invalid image, not saving https://upload.wikimedia.org/wikipedia/commons/thumb/7/79/Manisa_kebab.jpg/800px-Manisa_kebab.jpg\n",
      "\n",
      "[!] Issue getting: https://upload.wikimedia.org/wikipedia/commons/thumb/7/79/Manisa_kebab.jpg/800px-Manisa_kebab.jpg\n",
      "[!] Error:: Invalid image, not saving https://upload.wikimedia.org/wikipedia/commons/thumb/7/79/Manisa_kebab.jpg/800px-Manisa_kebab.jpg\n",
      "\n",
      "[%] Downloading Image #19 from https://isorepublic.com/wp-content/uploads/2018/11/meat-kebab.jpg\n",
      "[%] File Downloaded !\n",
      "\n",
      "[%] Downloading Image #20 from https://upload.wikimedia.org/wikipedia/commons/thumb/d/d9/06-07-2017_Belly_pork_shish_kebab%2C_Albufeira.JPG/800px-06-07-2017_Belly_pork_shish_kebab%2C_Albufeira.JPG\n",
      "[Error]Invalid image, not saving https://upload.wikimedia.org/wikipedia/commons/thumb/d/d9/06-07-2017_Belly_pork_shish_kebab%2C_Albufeira.JPG/800px-06-07-2017_Belly_pork_shish_kebab%2C_Albufeira.JPG\n",
      "\n",
      "[!] Issue getting: https://upload.wikimedia.org/wikipedia/commons/thumb/d/d9/06-07-2017_Belly_pork_shish_kebab%2C_Albufeira.JPG/800px-06-07-2017_Belly_pork_shish_kebab%2C_Albufeira.JPG\n",
      "[!] Error:: Invalid image, not saving https://upload.wikimedia.org/wikipedia/commons/thumb/d/d9/06-07-2017_Belly_pork_shish_kebab%2C_Albufeira.JPG/800px-06-07-2017_Belly_pork_shish_kebab%2C_Albufeira.JPG\n",
      "\n",
      "[%] Downloading Image #20 from https://st3.depositphotos.com/4233177/13416/i/950/depositphotos_134165530-stock-photo-doner-kebab-cooking-in-istanbul.jpg\n",
      "[%] File Downloaded !\n",
      "\n",
      "[%] Downloading Image #21 from https://upload.wikimedia.org/wikipedia/commons/thumb/0/08/Awadhi_seekh_kebab.jpg/800px-Awadhi_seekh_kebab.jpg\n",
      "[%] File Downloaded !\n",
      "\n",
      "[%] Downloading Image #22 from https://upload.wikimedia.org/wikipedia/commons/e/e2/Döner_Kebab_in_Istanbul.jpg\n",
      "[!] Issue getting: https://upload.wikimedia.org/wikipedia/commons/e/e2/Döner_Kebab_in_Istanbul.jpg\n",
      "[!] Error:: 'ascii' codec can't encode character '\\xf6' in position 29: ordinal not in range(128)\n",
      "[%] Downloading Image #22 from https://thumbs.dreamstime.com/z/traditional-delicious-turkish-foods-doner-kebab-grilled-meat-traditional-delicious-turkish-foods-doner-kebab-133216783.jpg\n",
      "[%] File Downloaded !\n",
      "\n",
      "[%] Downloading Image #23 from https://upload.wikimedia.org/wikipedia/commons/thumb/b/b3/Kebab_in_Hongdae.jpg/800px-Kebab_in_Hongdae.jpg\n",
      "[Error]Invalid image, not saving https://upload.wikimedia.org/wikipedia/commons/thumb/b/b3/Kebab_in_Hongdae.jpg/800px-Kebab_in_Hongdae.jpg\n",
      "\n",
      "[!] Issue getting: https://upload.wikimedia.org/wikipedia/commons/thumb/b/b3/Kebab_in_Hongdae.jpg/800px-Kebab_in_Hongdae.jpg\n",
      "[!] Error:: Invalid image, not saving https://upload.wikimedia.org/wikipedia/commons/thumb/b/b3/Kebab_in_Hongdae.jpg/800px-Kebab_in_Hongdae.jpg\n",
      "\n",
      "[%] Downloading Image #23 from https://st3.depositphotos.com/6847426/17053/i/1600/depositphotos_170536870-stock-photo-traditional-turkish-doner-kebab-grill.jpg\n"
     ]
    },
    {
     "name": "stdout",
     "output_type": "stream",
     "text": [
      "[%] File Downloaded !\n",
      "\n",
      "[%] Downloading Image #24 from http://www.linzwiki.at/w/images/thumb/f/f8/Pizza_Kebab_Baron.jpg/687px-Pizza_Kebab_Baron.jpg\n",
      "[!] Issue getting: http://www.linzwiki.at/w/images/thumb/f/f8/Pizza_Kebab_Baron.jpg/687px-Pizza_Kebab_Baron.jpg\n",
      "[!] Error:: timed out\n",
      "[%] Downloading Image #24 from https://upload.wikimedia.org/wikipedia/commons/thumb/f/f0/Iskender_kebab.jpg/800px-Iskender_kebab.jpg\n",
      "[%] File Downloaded !\n",
      "\n",
      "[%] Downloading Image #25 from https://freepngimg.com/thumb/grocery/56186-3-kebab-free-transparent-image-hq.png\n",
      "[!] Issue getting: https://freepngimg.com/thumb/grocery/56186-3-kebab-free-transparent-image-hq.png\n",
      "[!] Error:: <urlopen error [SSL: CERTIFICATE_VERIFY_FAILED] certificate verify failed: certificate has expired (_ssl.c:1125)>\n",
      "[%] Downloading Image #25 from https://thumbs.dreamstime.com/z/delicious-dishes-turkish-cuisine-doner-kebab-rotary-cooked-rotary-cooked-turkish-chicken-doner-kebab-138066693.jpg\n",
      "[%] File Downloaded !\n",
      "\n",
      "[%] Downloading Image #26 from https://thumbs.dreamstime.com/z/traditional-turkish-doner-kebab-grill-traditional-turkish-doner-kebab-pole-114636359.jpg\n",
      "[%] File Downloaded !\n",
      "\n",
      "\n",
      "\n",
      "[!!]Indexing page: 2\n",
      "\n",
      "[%] Indexed 35 Images on Page 2.\n",
      "\n",
      "===============================================\n",
      "\n",
      "\n",
      "\n",
      "[!!]Indexing page: 3\n",
      "\n",
      "[%] Indexed 39 Images on Page 3.\n",
      "\n",
      "===============================================\n",
      "\n",
      "[%] Downloading Image #27 from https://upload.wikimedia.org/wikipedia/commons/thumb/d/dd/Kebab_Snackpack_-_Sydney.JPG/783px-Kebab_Snackpack_-_Sydney.JPG\n",
      "[%] File Downloaded !\n",
      "\n",
      "\n",
      "\n",
      "[!!]Indexing page: 4\n",
      "\n",
      "[%] Indexed 39 Images on Page 4.\n",
      "\n",
      "===============================================\n",
      "\n",
      "[%] Downloading Image #28 from https://static.wixstatic.com/media/9f274d_4841ea11ff0a42c090a9c5d0b4680d96~mv2_d_5041_3361_s_4_2.jpg/v1/fill/w_5041,h_3361,fp_0.50_0.50,q_90/9f274d_4841ea11ff0a42c090a9c5d0b4680d96~mv2_d_5041_3361_s_4_2.jpg\n",
      "[%] File Downloaded !\n",
      "\n",
      "\n",
      "\n",
      "[!!]Indexing page: 5\n",
      "\n",
      "[%] Indexed 39 Images on Page 5.\n",
      "\n",
      "===============================================\n",
      "\n",
      "\n",
      "\n",
      "[!!]Indexing page: 6\n",
      "\n",
      "[%] Indexed 39 Images on Page 6.\n",
      "\n",
      "===============================================\n",
      "\n",
      "[%] Downloading Image #29 from https://campuskebab-dijon.fr/128-home_default/assiette-kebab.jpg\n",
      "[!] Issue getting: https://campuskebab-dijon.fr/128-home_default/assiette-kebab.jpg\n",
      "[!] Error:: <urlopen error [SSL: CERTIFICATE_VERIFY_FAILED] certificate verify failed: certificate has expired (_ssl.c:1125)>\n",
      "\n",
      "\n",
      "[!!]Indexing page: 7\n",
      "\n",
      "[%] Indexed 39 Images on Page 7.\n",
      "\n",
      "===============================================\n",
      "\n",
      "[%] Downloading Image #29 from https://image.freepik.com/free-photo/various-kebab-with-rice-vegetables_140725-7110.jpg\n",
      "[%] File Downloaded !\n",
      "\n",
      "[%] Downloading Image #30 from https://image.freepik.com/photos-gratuite/kebab-son-plateau-cuisson-special-barbecue_38678-2718.jpg\n",
      "[%] File Downloaded !\n",
      "\n",
      "[%] Downloading Image #31 from https://www.linzwiki.at/w/images/e/e8/City_Kebab.jpg\n",
      "[!] Issue getting: https://www.linzwiki.at/w/images/e/e8/City_Kebab.jpg\n",
      "[!] Error:: <urlopen error [SSL: CERTIFICATE_VERIFY_FAILED] certificate verify failed: certificate has expired (_ssl.c:1125)>\n",
      "[%] Downloading Image #31 from https://www.cookipedia.co.uk/wiki/images/9/97/Lamb_fillet_kebabs%2C_grilled.jpg\n",
      "[!] Issue getting: https://www.cookipedia.co.uk/wiki/images/9/97/Lamb_fillet_kebabs%2C_grilled.jpg\n",
      "[!] Error:: <urlopen error [SSL: CERTIFICATE_VERIFY_FAILED] certificate verify failed: certificate has expired (_ssl.c:1125)>\n",
      "[%] Downloading Image #31 from https://www.yorkschocolatestory.com/wp-content/uploads/2020/02/hanging-kebab.jpg.gallery.jpg\n",
      "[!] Issue getting: https://www.yorkschocolatestory.com/wp-content/uploads/2020/02/hanging-kebab.jpg.gallery.jpg\n",
      "[!] Error:: <urlopen error [SSL: CERTIFICATE_VERIFY_FAILED] certificate verify failed: certificate has expired (_ssl.c:1125)>\n",
      "\n",
      "\n",
      "[!!]Indexing page: 8\n",
      "\n",
      "[%] Indexed 39 Images on Page 8.\n",
      "\n",
      "===============================================\n",
      "\n",
      "\n",
      "\n",
      "[!!]Indexing page: 9\n",
      "\n",
      "[%] Indexed 39 Images on Page 9.\n",
      "\n",
      "===============================================\n",
      "\n",
      "[%] Downloading Image #31 from https://thumbs.dreamstime.com/z/istanbul-turkey-october-chef-cutting-traditional-turkish-food-doner-kebab-restaurant-istanbul-turkey-chef-cutting-194470364.jpg\n",
      "[%] File Downloaded !\n",
      "\n",
      "\n",
      "\n",
      "[!!]Indexing page: 10\n",
      "\n",
      "[%] Indexed 39 Images on Page 10.\n",
      "\n",
      "===============================================\n",
      "\n",
      "[%] Downloading Image #32 from https://image.freepik.com/free-photo/from-adana-kebab-with-rice-fried-vegetables-chopped-onion-ayran_176474-2604.jpg\n",
      "[%] File Downloaded !\n",
      "\n",
      "\n",
      "\n",
      "[!!]Indexing page: 11\n",
      "\n",
      "[%] Indexed 39 Images on Page 11.\n",
      "\n",
      "===============================================\n",
      "\n",
      "[%] Downloading Image #33 from https://www.goodchefbadchef.com.au/wp-content/uploads/2014/12/E21_W02_Kebabs.jpg\n",
      "[!] Issue getting: https://www.goodchefbadchef.com.au/wp-content/uploads/2014/12/E21_W02_Kebabs.jpg\n",
      "[!] Error:: <urlopen error [SSL: CERTIFICATE_VERIFY_FAILED] certificate verify failed: certificate has expired (_ssl.c:1125)>\n",
      "\n",
      "\n",
      "[!!]Indexing page: 12\n",
      "\n",
      "[%] Indexed 39 Images on Page 12.\n",
      "\n",
      "===============================================\n",
      "\n",
      "[%] Downloading Image #33 from https://ziyad-jkxqimhkg2pofd.netdna-ssl.com/wp-content/uploads/2020/06/photo-may-20-7-22-52-pm-2000x2000.jpg\n",
      "[%] File Downloaded !\n",
      "\n",
      "\n",
      "\n",
      "[!!]Indexing page: 13\n",
      "\n",
      "[%] Indexed 39 Images on Page 13.\n",
      "\n",
      "===============================================\n",
      "\n",
      "[%] Downloading Image #34 from https://isorepublic.com/wp-content/uploads/2018/11/isorepublic-shish-kebab-skewer-1-1100x733.jpg\n",
      "[%] File Downloaded !\n",
      "\n",
      "[%] Downloading Image #35 from https://thumbs.dreamstime.com/z/traditional-turkish-doner-kebab-skewer-cuisine-street-food-turnspit-skewing-kebap-shawarma-184414151.jpg\n",
      "[%] File Downloaded !\n",
      "\n",
      "\n",
      "\n",
      "[!!]Indexing page: 14\n",
      "\n",
      "[%] Indexed 39 Images on Page 14.\n",
      "\n",
      "===============================================\n",
      "\n",
      "\n",
      "\n",
      "[!!]Indexing page: 15\n",
      "\n",
      "[%] Indexed 39 Images on Page 15.\n",
      "\n",
      "===============================================\n",
      "\n",
      "[%] Downloading Image #36 from https://thumbs.dreamstime.com/z/traditional-turkish-food-doner-kebab-turnspit-skewing-kebap-kebab-shawarma-traditional-turkish-doner-kebab-kebab-skewer-turkish-194330358.jpg\n",
      "[%] File Downloaded !\n",
      "\n",
      "\n",
      "\n",
      "[!!]Indexing page: 16\n",
      "\n",
      "[%] Indexed 39 Images on Page 16.\n",
      "\n",
      "===============================================\n",
      "\n",
      "[%] Downloading Image #37 from https://upload.wikimedia.org/wikipedia/commons/thumb/b/b7/Doner_kebab_shawarma_pita.jpg/494px-Doner_kebab_shawarma_pita.jpg\n",
      "[Error]Invalid image, not saving https://upload.wikimedia.org/wikipedia/commons/thumb/b/b7/Doner_kebab_shawarma_pita.jpg/494px-Doner_kebab_shawarma_pita.jpg\n",
      "\n",
      "[!] Issue getting: https://upload.wikimedia.org/wikipedia/commons/thumb/b/b7/Doner_kebab_shawarma_pita.jpg/494px-Doner_kebab_shawarma_pita.jpg\n",
      "[!] Error:: Invalid image, not saving https://upload.wikimedia.org/wikipedia/commons/thumb/b/b7/Doner_kebab_shawarma_pita.jpg/494px-Doner_kebab_shawarma_pita.jpg\n",
      "\n",
      "\n",
      "\n",
      "[!!]Indexing page: 17\n",
      "\n",
      "[%] Indexed 39 Images on Page 17.\n",
      "\n",
      "===============================================\n",
      "\n",
      "\n",
      "\n",
      "[!!]Indexing page: 18\n",
      "\n",
      "[%] Indexed 39 Images on Page 18.\n",
      "\n",
      "===============================================\n",
      "\n",
      "[%] Downloading Image #37 from http://static6.depositphotos.com/1128615/616/i/950/depositphotos_6166944-stock-photo-dner-kebab.jpg\n",
      "[%] File Downloaded !\n",
      "\n",
      "\n",
      "\n",
      "[!!]Indexing page: 19\n",
      "\n",
      "[%] Indexed 39 Images on Page 19.\n",
      "\n",
      "===============================================\n",
      "\n",
      "[%] Downloading Image #38 from https://thumbs.dreamstime.com/b/tasty-kofta-kebab-tasty-kofta-kebab-grilled-paprika-onion-served-pita-flatbread-107421551.jpg\n",
      "[%] File Downloaded !\n",
      "\n",
      "\n",
      "\n",
      "[!!]Indexing page: 20\n",
      "\n",
      "[%] Indexed 39 Images on Page 20.\n",
      "\n",
      "===============================================\n",
      "\n",
      "[%] Downloading Image #39 from https://static.wixstatic.com/media/58fba7_888d08de8ae545ed80fb0cd18858e320~mv2.jpg/v1/fill/w_1600,h_701,al_c,q_90/file.jpg\n",
      "[%] File Downloaded !\n",
      "\n",
      "\n",
      "\n",
      "[%] Done. Downloaded 39 images.\n"
     ]
    }
   ],
   "source": [
    "downloader.download('kebab.jpg', \n",
    "                    limit = 39,  \n",
    "                    output_dir = 'food_images/train/kebab', \n",
    "                    adult_filter_off = True, \n",
    "                    force_replace = False, \n",
    "                    timeout = 60, \n",
    "                    verbose = True)"
   ]
  },
  {
   "cell_type": "code",
   "execution_count": 170,
   "id": "705a6e1b",
   "metadata": {},
   "outputs": [
    {
     "name": "stdout",
     "output_type": "stream",
     "text": [
      "[%] Downloading Images to D:\\TC\\Jupyter Notebook\\Capstone Project\\food_images\\test\\kebab\\kebab.jpg\n",
      "\n",
      "\n",
      "[!!]Indexing page: 1\n",
      "\n",
      "[%] Indexed 11 Images on Page 1.\n",
      "\n",
      "===============================================\n",
      "\n",
      "[%] Downloading Image #1 from https://vignette.wikia.nocookie.net/micronations/images/0/09/Kebab_%26_Chips.jpg/revision/latest/scale-to-width-down/2000?cb=20130226113027\n",
      "[%] File Downloaded !\n",
      "\n",
      "[%] Downloading Image #2 from https://www.gourmetkebab.es/wp-content/uploads/2019/09/doner-kebab-shawarma.jpg\n",
      "[%] File Downloaded !\n",
      "\n",
      "[%] Downloading Image #3 from https://thumbs.dreamstime.com/b/doner-kebab-grilled-meat-bread-vegetables-39463283.jpg\n",
      "[%] File Downloaded !\n",
      "\n",
      "[%] Downloading Image #4 from https://external-preview.redd.it/dhOW7zxfGVyUwUaEQAp4UJuEF5KU24d1KjjJtaqoYL8.jpg?auto=webp&amp;s=1796795c6f24e9b0f782151b1bd51e9ba8324e34\n",
      "[!] Issue getting: https://external-preview.redd.it/dhOW7zxfGVyUwUaEQAp4UJuEF5KU24d1KjjJtaqoYL8.jpg?auto=webp&amp;s=1796795c6f24e9b0f782151b1bd51e9ba8324e34\n",
      "[!] Error:: HTTP Error 403: Forbidden\n",
      "[%] Downloading Image #4 from https://thumbs.dreamstime.com/z/doner-kebab-isolated-white-background-doner-kebab-white-background-146756503.jpg\n",
      "[%] File Downloaded !\n",
      "\n",
      "[%] Downloading Image #5 from https://www.umeamarket.se/wp-content/uploads/2019/02/cropped-kebab.jpg\n",
      "[%] File Downloaded !\n",
      "\n",
      "[%] Downloading Image #6 from https://thumbs.dreamstime.com/z/berliner-doner-kebab-135431555.jpg\n",
      "[%] File Downloaded !\n",
      "\n",
      "[%] Downloading Image #7 from https://thumbs.dreamstime.com/b/doner-kebab-auf-weiß-5744988.jpg\n",
      "[!] Issue getting: https://thumbs.dreamstime.com/b/doner-kebab-auf-weiß-5744988.jpg\n",
      "[!] Error:: 'ascii' codec can't encode character '\\xdf' in position 26: ordinal not in range(128)\n",
      "[%] Downloading Image #7 from https://image.freepik.com/free-photo/doner-kebab-is-lying-cutting-board-shawarma-with-meat-onions-salad-lies-dark-old-wooden-table_120795-12.jpg\n",
      "[%] File Downloaded !\n",
      "\n",
      "[%] Downloading Image #8 from https://st3.depositphotos.com/1000605/17011/i/950/depositphotos_170115058-stock-photo-grilled-kebab-mix.jpg\n",
      "[%] File Downloaded !\n",
      "\n",
      "[%] Downloading Image #9 from http://blog.unitee.eu/wp-content/uploads/2015/03/KEBABlog.jpg\n",
      "[%] File Downloaded !\n",
      "\n",
      "\n",
      "\n",
      "[!!]Indexing page: 2\n",
      "\n",
      "[%] Indexed 35 Images on Page 2.\n",
      "\n",
      "===============================================\n",
      "\n",
      "[%] Downloading Image #10 from https://prod-wolt-venue-images-cdn.wolt.com/5ce2b224f2155f8ff15181b5/df78331ea978fb37d36319dd38e3fe08\n",
      "[Error]Invalid image, not saving https://prod-wolt-venue-images-cdn.wolt.com/5ce2b224f2155f8ff15181b5/df78331ea978fb37d36319dd38e3fe08\n",
      "\n",
      "[!] Issue getting: https://prod-wolt-venue-images-cdn.wolt.com/5ce2b224f2155f8ff15181b5/df78331ea978fb37d36319dd38e3fe08\n",
      "[!] Error:: Invalid image, not saving https://prod-wolt-venue-images-cdn.wolt.com/5ce2b224f2155f8ff15181b5/df78331ea978fb37d36319dd38e3fe08\n",
      "\n",
      "[%] Downloading Image #10 from https://thumbs.dreamstime.com/b/turkish-doner-kebab-shawarma-still-life-33672202.jpg\n",
      "[%] File Downloaded !\n",
      "\n",
      "[%] Downloading Image #11 from https://freepngimg.com/thumb/grocery/56195-2-kebab-image-free-transparent-image-hd.png\n",
      "[!] Issue getting: https://freepngimg.com/thumb/grocery/56195-2-kebab-image-free-transparent-image-hd.png\n",
      "[!] Error:: <urlopen error [SSL: CERTIFICATE_VERIFY_FAILED] certificate verify failed: certificate has expired (_ssl.c:1125)>\n",
      "[%] Downloading Image #11 from https://i.pinimg.com/originals/06/f7/48/06f7488a8324b0da34d5685c7e2e46db.jpg\n",
      "[%] File Downloaded !\n",
      "\n",
      "\n",
      "\n",
      "[%] Done. Downloaded 11 images.\n"
     ]
    }
   ],
   "source": [
    "downloader.download('kebab.jpg', \n",
    "                    limit = 11,  \n",
    "                    output_dir = 'food_images/test/kebab', \n",
    "                    adult_filter_off = True, \n",
    "                    force_replace = False, \n",
    "                    timeout = 60, \n",
    "                    verbose = True)"
   ]
  },
  {
   "cell_type": "markdown",
   "id": "7d583a68",
   "metadata": {},
   "source": [
    "### Check the Shape of One of the Image"
   ]
  },
  {
   "cell_type": "code",
   "execution_count": 7,
   "id": "97f7eadf",
   "metadata": {},
   "outputs": [
    {
     "name": "stdout",
     "output_type": "stream",
     "text": [
      "Each image has shape: (720, 1280, 3)\n"
     ]
    }
   ],
   "source": [
    "sample_image  = load_img(f\"{os.path.join(train_dir_ayam, os.listdir(train_dir_ayam)[1])}\")\n",
    "\n",
    "sample_array = img_to_array(sample_image)\n",
    "\n",
    "print(f\"Each image has shape: {sample_array.shape}\")"
   ]
  },
  {
   "cell_type": "markdown",
   "id": "da60ebfe",
   "metadata": {},
   "source": [
    "### Check the Unidentified Image"
   ]
  },
  {
   "cell_type": "code",
   "execution_count": 197,
   "id": "a9e7e00f",
   "metadata": {},
   "outputs": [],
   "source": [
    "path = Path(\"food_images/train\").rglob(\"*.jpg\")\n",
    "for img_p in path:\n",
    "    try:\n",
    "        img = PIL.Image.open(img_p)\n",
    "    except PIL.UnidentifiedImageError:\n",
    "            print(img_p)"
   ]
  },
  {
   "cell_type": "code",
   "execution_count": 198,
   "id": "54550c35",
   "metadata": {},
   "outputs": [],
   "source": [
    "path = Path(\"food_images/test\").rglob(\"*.jpg\")\n",
    "for img_p in path:\n",
    "    try:\n",
    "        img = PIL.Image.open(img_p)\n",
    "    except PIL.UnidentifiedImageError:\n",
    "            print(img_p)"
   ]
  },
  {
   "cell_type": "code",
   "execution_count": 199,
   "id": "eae954d6",
   "metadata": {},
   "outputs": [],
   "source": [
    "path = Path(\"food_images/train\").rglob(\"*.jpeg\")\n",
    "for img_p in path:\n",
    "    try:\n",
    "        img = PIL.Image.open(img_p)\n",
    "    except PIL.UnidentifiedImageError:\n",
    "            print(img_p)"
   ]
  },
  {
   "cell_type": "code",
   "execution_count": 200,
   "id": "c66d3db5",
   "metadata": {},
   "outputs": [],
   "source": [
    "path = Path(\"food_images/test\").rglob(\"*.jpeg\")\n",
    "for img_p in path:\n",
    "    try:\n",
    "        img = PIL.Image.open(img_p)\n",
    "    except PIL.UnidentifiedImageError:\n",
    "            print(img_p)"
   ]
  },
  {
   "cell_type": "markdown",
   "id": "615cc61d",
   "metadata": {},
   "source": [
    "# <center>First Test<center>"
   ]
  },
  {
   "cell_type": "markdown",
   "id": "dafacfeb",
   "metadata": {},
   "source": [
    "### Build the Model"
   ]
  },
  {
   "cell_type": "code",
   "execution_count": 261,
   "id": "5276b0d6",
   "metadata": {},
   "outputs": [],
   "source": [
    "model = tf.keras.models.Sequential([\n",
    "    tf.keras.layers.Conv2D(32, (3, 3), activation = 'relu', input_shape = (150, 150, 3)),\n",
    "    tf.keras.layers.MaxPooling2D(2, 2),\n",
    "    tf.keras.layers.Conv2D(64, (3, 3), activation = 'relu'),\n",
    "    tf.keras.layers.MaxPooling2D(2, 2), \n",
    "    tf.keras.layers.Flatten(), \n",
    "    tf.keras.layers.Dense(512, activation = 'relu'), \n",
    "    tf.keras.layers.Dense(15, activation = 'softmax')  \n",
    "])"
   ]
  },
  {
   "cell_type": "code",
   "execution_count": 262,
   "id": "1ec6aaa0",
   "metadata": {},
   "outputs": [
    {
     "name": "stdout",
     "output_type": "stream",
     "text": [
      "Model: \"sequential_19\"\n",
      "_________________________________________________________________\n",
      "Layer (type)                 Output Shape              Param #   \n",
      "=================================================================\n",
      "conv2d_49 (Conv2D)           (None, 148, 148, 32)      896       \n",
      "_________________________________________________________________\n",
      "max_pooling2d_49 (MaxPooling (None, 74, 74, 32)        0         \n",
      "_________________________________________________________________\n",
      "conv2d_50 (Conv2D)           (None, 72, 72, 64)        18496     \n",
      "_________________________________________________________________\n",
      "max_pooling2d_50 (MaxPooling (None, 36, 36, 64)        0         \n",
      "_________________________________________________________________\n",
      "flatten_19 (Flatten)         (None, 82944)             0         \n",
      "_________________________________________________________________\n",
      "dense_38 (Dense)             (None, 512)               42467840  \n",
      "_________________________________________________________________\n",
      "dense_39 (Dense)             (None, 15)                7695      \n",
      "=================================================================\n",
      "Total params: 42,494,927\n",
      "Trainable params: 42,494,927\n",
      "Non-trainable params: 0\n",
      "_________________________________________________________________\n"
     ]
    }
   ],
   "source": [
    "model.summary()"
   ]
  },
  {
   "cell_type": "code",
   "execution_count": 263,
   "id": "d8b5beed",
   "metadata": {},
   "outputs": [],
   "source": [
    "model.compile(optimizer = 'adam',\n",
    "              loss = 'categorical_crossentropy',\n",
    "              metrics = ['accuracy'])"
   ]
  },
  {
   "cell_type": "markdown",
   "id": "8f808f77",
   "metadata": {},
   "source": [
    "### Prepare the ImageDataGenerator"
   ]
  },
  {
   "cell_type": "code",
   "execution_count": 264,
   "id": "a335e026",
   "metadata": {
    "scrolled": false
   },
   "outputs": [
    {
     "name": "stdout",
     "output_type": "stream",
     "text": [
      "Found 7464 images belonging to 15 classes.\n",
      "Found 2988 images belonging to 15 classes.\n"
     ]
    }
   ],
   "source": [
    "train_dir = 'food_images/train'\n",
    "training_datagen = ImageDataGenerator(\n",
    "      rescale = 1./255,\n",
    "      rotation_range = 40,\n",
    "      width_shift_range = 0.2,\n",
    "      height_shift_range = 0.2,\n",
    "      shear_range = 0.2,\n",
    "      zoom_range = 0.2,\n",
    "      horizontal_flip = True,\n",
    "      fill_mode = 'nearest')\n",
    "\n",
    "test_dir = 'food_images/test'\n",
    "validation_datagen = ImageDataGenerator(\n",
    "      rescale = 1./255,\n",
    "      rotation_range = 40,\n",
    "      width_shift_range = 0.2,\n",
    "      height_shift_range = 0.2,\n",
    "      shear_range = 0.2,\n",
    "      zoom_range = 0.2,\n",
    "      horizontal_flip = True,\n",
    "      fill_mode = 'nearest')\n",
    "\n",
    "train_generator = training_datagen.flow_from_directory(\n",
    "   train_dir,\n",
    "   target_size = (150, 150),\n",
    "   class_mode = 'categorical',\n",
    "   batch_size = 32\n",
    ")\n",
    "\n",
    "validation_generator = validation_datagen.flow_from_directory(\n",
    "   test_dir,\n",
    "   target_size = (150, 150),\n",
    "   class_mode='categorical',\n",
    "   batch_size = 32\n",
    ")"
   ]
  },
  {
   "cell_type": "markdown",
   "id": "7557451c",
   "metadata": {},
   "source": [
    "### Train the Model"
   ]
  },
  {
   "cell_type": "code",
   "execution_count": 265,
   "id": "c52d6fdc",
   "metadata": {
    "scrolled": true
   },
   "outputs": [
    {
     "name": "stdout",
     "output_type": "stream",
     "text": [
      "Epoch 1/25\n",
      "20/20 [==============================] - 21s 1s/step - loss: 4.6025 - accuracy: 0.0734 - val_loss: 2.7058 - val_accuracy: 0.0729\n",
      "Epoch 2/25\n",
      "20/20 [==============================] - 21s 1s/step - loss: 2.7027 - accuracy: 0.0731 - val_loss: 2.7114 - val_accuracy: 0.0417\n",
      "Epoch 3/25\n",
      "20/20 [==============================] - 21s 1s/step - loss: 2.6960 - accuracy: 0.0766 - val_loss: 2.6996 - val_accuracy: 0.1042\n",
      "Epoch 4/25\n",
      "20/20 [==============================] - 21s 1s/step - loss: 2.6992 - accuracy: 0.0828 - val_loss: 2.6912 - val_accuracy: 0.1458\n",
      "Epoch 5/25\n",
      "20/20 [==============================] - 21s 1s/step - loss: 2.6754 - accuracy: 0.1109 - val_loss: 2.7104 - val_accuracy: 0.0625\n",
      "Epoch 6/25\n",
      "20/20 [==============================] - 22s 1s/step - loss: 2.6690 - accuracy: 0.1094 - val_loss: 2.6884 - val_accuracy: 0.1042\n",
      "Epoch 7/25\n",
      "20/20 [==============================] - 21s 1s/step - loss: 2.6669 - accuracy: 0.1125 - val_loss: 2.6640 - val_accuracy: 0.1354\n",
      "Epoch 8/25\n",
      "20/20 [==============================] - 23s 1s/step - loss: 2.5976 - accuracy: 0.1375 - val_loss: 2.5221 - val_accuracy: 0.0938\n",
      "Epoch 9/25\n",
      "20/20 [==============================] - 18s 922ms/step - loss: 2.6280 - accuracy: 0.1516 - val_loss: 2.6222 - val_accuracy: 0.1562\n",
      "Epoch 10/25\n",
      "20/20 [==============================] - 21s 1s/step - loss: 2.5741 - accuracy: 0.1359 - val_loss: 2.6134 - val_accuracy: 0.1146\n",
      "Epoch 11/25\n",
      "20/20 [==============================] - 21s 1s/step - loss: 2.5657 - accuracy: 0.1703 - val_loss: 2.4900 - val_accuracy: 0.1667\n",
      "Epoch 12/25\n",
      "20/20 [==============================] - 19s 948ms/step - loss: 2.5251 - accuracy: 0.1781 - val_loss: 2.7084 - val_accuracy: 0.1042\n",
      "Epoch 13/25\n",
      "20/20 [==============================] - 21s 1s/step - loss: 2.5327 - accuracy: 0.1750 - val_loss: 2.4679 - val_accuracy: 0.2083\n",
      "Epoch 14/25\n",
      "20/20 [==============================] - 21s 1s/step - loss: 2.3795 - accuracy: 0.2250 - val_loss: 2.2618 - val_accuracy: 0.2500\n",
      "Epoch 15/25\n",
      "20/20 [==============================] - 22s 1s/step - loss: 2.4091 - accuracy: 0.2406 - val_loss: 2.4883 - val_accuracy: 0.1771\n",
      "Epoch 16/25\n",
      "20/20 [==============================] - 20s 1s/step - loss: 2.4158 - accuracy: 0.2188 - val_loss: 2.4581 - val_accuracy: 0.1875\n",
      "Epoch 17/25\n",
      "20/20 [==============================] - 19s 965ms/step - loss: 2.3925 - accuracy: 0.2281 - val_loss: 2.2653 - val_accuracy: 0.2500\n",
      "Epoch 18/25\n",
      "20/20 [==============================] - 22s 1s/step - loss: 2.2505 - accuracy: 0.2453 - val_loss: 2.4382 - val_accuracy: 0.2083\n",
      "Epoch 19/25\n",
      "20/20 [==============================] - 21s 1s/step - loss: 2.2650 - accuracy: 0.2594 - val_loss: 2.1233 - val_accuracy: 0.3438\n",
      "Epoch 20/25\n",
      "20/20 [==============================] - 20s 984ms/step - loss: 2.2645 - accuracy: 0.2609 - val_loss: 2.4730 - val_accuracy: 0.2083\n",
      "Epoch 21/25\n",
      "20/20 [==============================] - 19s 946ms/step - loss: 2.1918 - accuracy: 0.2797 - val_loss: 2.4433 - val_accuracy: 0.1979\n",
      "Epoch 22/25\n",
      "20/20 [==============================] - 21s 1s/step - loss: 2.2732 - accuracy: 0.2797 - val_loss: 2.1907 - val_accuracy: 0.2917\n",
      "Epoch 23/25\n",
      "20/20 [==============================] - 19s 950ms/step - loss: 2.1363 - accuracy: 0.2859 - val_loss: 2.3429 - val_accuracy: 0.3125\n",
      "Epoch 24/25\n",
      "20/20 [==============================] - 20s 1s/step - loss: 2.2076 - accuracy: 0.2672 - val_loss: 2.0029 - val_accuracy: 0.3229\n",
      "Epoch 25/25\n",
      "20/20 [==============================] - 19s 956ms/step - loss: 2.0743 - accuracy: 0.3344 - val_loss: 2.1288 - val_accuracy: 0.3229\n"
     ]
    }
   ],
   "source": [
    "history = model.fit(train_generator, \n",
    "                    epochs = 25, \n",
    "                    steps_per_epoch = 20, \n",
    "                    validation_data = validation_generator, \n",
    "                    verbose = 1, \n",
    "                    validation_steps = 3)"
   ]
  },
  {
   "cell_type": "markdown",
   "id": "79cc01a7",
   "metadata": {},
   "source": [
    "### Evaluate the Model"
   ]
  },
  {
   "cell_type": "code",
   "execution_count": 266,
   "id": "4f2d05b4",
   "metadata": {},
   "outputs": [
    {
     "data": {
      "image/png": "[encoded data removed]",
      "text/plain": [
       "<Figure size 432x288 with 1 Axes>"
      ]
     },
     "metadata": {
      "needs_background": "light"
     },
     "output_type": "display_data"
    },
    {
     "data": {
      "image/png": "[encoded data removed]",
      "text/plain": [
       "<Figure size 432x288 with 1 Axes>"
      ]
     },
     "metadata": {
      "needs_background": "light"
     },
     "output_type": "display_data"
    }
   ],
   "source": [
    "acc = history.history['accuracy']\n",
    "val_acc = history.history['val_accuracy']\n",
    "loss = history.history['loss']\n",
    "val_loss = history.history['val_loss']\n",
    "\n",
    "epochs = range(len(acc))\n",
    "\n",
    "plt.plot(epochs, acc, 'r', label = 'Training Accuracy')\n",
    "plt.plot(epochs, val_acc, 'b', label = 'Validation Accuracy')\n",
    "plt.title('Training and Validation Accuracy')\n",
    "plt.legend()\n",
    "plt.figure()\n",
    "\n",
    "plt.plot(epochs, loss, 'r', label = 'Training Loss')\n",
    "plt.plot(epochs, val_loss, 'b', label = 'Validation Loss')\n",
    "plt.title('Training and Validation Loss')\n",
    "plt.legend()\n",
    "\n",
    "plt.show()"
   ]
  },
  {
   "cell_type": "markdown",
   "id": "4c6461e7",
   "metadata": {},
   "source": [
    "# <center>Second Test<center>"
   ]
  },
  {
   "cell_type": "markdown",
   "id": "57b7f36e",
   "metadata": {},
   "source": [
    "### Transfer Learning"
   ]
  },
  {
   "cell_type": "code",
   "execution_count": 10,
   "id": "77ac9aa6",
   "metadata": {},
   "outputs": [],
   "source": [
    "ResNet_V2_50 = 'https://tfhub.dev/google/imagenet/resnet_v2_50/classification/5'\n",
    "mobilenet_v2_100 = 'https://tfhub.dev/google/imagenet/mobilenet_v2_100_160/classification/5'"
   ]
  },
  {
   "cell_type": "code",
   "execution_count": 11,
   "id": "b036045e",
   "metadata": {},
   "outputs": [
    {
     "name": "stdout",
     "output_type": "stream",
     "text": [
      "Downloading data from https://storage.googleapis.com/tensorflow/keras-applications/mobilenet_v2/mobilenet_v2_weights_tf_dim_ordering_tf_kernels_1.0_160_no_top.h5\n",
      "9412608/9406464 [==============================] - 6s 1us/step\n"
     ]
    }
   ],
   "source": [
    "base_model = tf.keras.applications.MobileNetV2(input_shape = (160, 160, 3),\n",
    "                                               include_top = False,\n",
    "                                               weights = 'imagenet')"
   ]
  },
  {
   "cell_type": "code",
   "execution_count": 12,
   "id": "c17cdb4a",
   "metadata": {},
   "outputs": [],
   "source": [
    "model = tf.keras.models.Sequential([\n",
    "    hub.KerasLayer(mobilenet_v2_100, trainable = False, input_shape = (160, 160, 3), name = 'mobilenet_v2_100'),\n",
    "    tf.keras.layers.Flatten(),\n",
    "    tf.keras.layers.Dense(256, activation = 'relu'),\n",
    "    tf.keras.layers.Dense(15, activation = 'softmax')\n",
    "])"
   ]
  },
  {
   "cell_type": "code",
   "execution_count": 13,
   "id": "d701a80b",
   "metadata": {},
   "outputs": [
    {
     "name": "stdout",
     "output_type": "stream",
     "text": [
      "Model: \"sequential\"\n",
      "_________________________________________________________________\n",
      "Layer (type)                 Output Shape              Param #   \n",
      "=================================================================\n",
      "mobilenet_v2_100 (KerasLayer (None, 1001)              3540265   \n",
      "_________________________________________________________________\n",
      "flatten (Flatten)            (None, 1001)              0         \n",
      "_________________________________________________________________\n",
      "dense (Dense)                (None, 256)               256512    \n",
      "_________________________________________________________________\n",
      "dense_1 (Dense)              (None, 15)                3855      \n",
      "=================================================================\n",
      "Total params: 3,800,632\n",
      "Trainable params: 260,367\n",
      "Non-trainable params: 3,540,265\n",
      "_________________________________________________________________\n"
     ]
    }
   ],
   "source": [
    "model.summary()"
   ]
  },
  {
   "cell_type": "code",
   "execution_count": 14,
   "id": "5fafaf22",
   "metadata": {},
   "outputs": [],
   "source": [
    "model.compile(loss = 'categorical_crossentropy', \n",
    "              optimizer = 'adam', \n",
    "              metrics = ['accuracy'])"
   ]
  },
  {
   "cell_type": "markdown",
   "id": "57742a8f",
   "metadata": {},
   "source": [
    "### Prepare the ImageDataGenerator"
   ]
  },
  {
   "cell_type": "code",
   "execution_count": 15,
   "id": "2f58ab1d",
   "metadata": {},
   "outputs": [
    {
     "name": "stdout",
     "output_type": "stream",
     "text": [
      "Found 7464 images belonging to 15 classes.\n",
      "Found 2988 images belonging to 15 classes.\n"
     ]
    }
   ],
   "source": [
    "TRAINING_DIR = 'food_images/train'\n",
    "training_datagen = ImageDataGenerator(rescale = 1./255)\n",
    "\n",
    "VALIDATION_DIR = 'food_images/test'\n",
    "validation_datagen = ImageDataGenerator(rescale = 1./255)\n",
    "\n",
    "train_generator = training_datagen.flow_from_directory(\n",
    "  TRAINING_DIR,\n",
    "  target_size = (160, 160),\n",
    "  class_mode = 'categorical',\n",
    "  batch_size = 32,\n",
    ")\n",
    "\n",
    "test_generator = training_datagen.flow_from_directory(\n",
    "  VALIDATION_DIR,\n",
    "  target_size = (160, 160),\n",
    "  class_mode = 'categorical',\n",
    "  batch_size = 32,\n",
    ")"
   ]
  },
  {
   "cell_type": "code",
   "execution_count": 17,
   "id": "01b9a869",
   "metadata": {
    "scrolled": true
   },
   "outputs": [
    {
     "name": "stdout",
     "output_type": "stream",
     "text": [
      "Epoch 1/25\n",
      "20/20 [==============================] - 45s 2s/step - loss: 0.7409 - accuracy: 0.7641 - val_loss: 0.5956 - val_accuracy: 0.8021\n",
      "Epoch 2/25\n",
      "20/20 [==============================] - 44s 2s/step - loss: 0.4861 - accuracy: 0.8484 - val_loss: 0.4752 - val_accuracy: 0.8646\n",
      "Epoch 3/25\n",
      "20/20 [==============================] - 43s 2s/step - loss: 0.6365 - accuracy: 0.8188 - val_loss: 0.6925 - val_accuracy: 0.7812\n",
      "Epoch 4/25\n",
      "20/20 [==============================] - 45s 2s/step - loss: 0.6053 - accuracy: 0.8328 - val_loss: 0.5317 - val_accuracy: 0.8438\n",
      "Epoch 5/25\n",
      "20/20 [==============================] - 43s 2s/step - loss: 0.5748 - accuracy: 0.8297 - val_loss: 0.4607 - val_accuracy: 0.8958\n",
      "Epoch 6/25\n",
      "20/20 [==============================] - 46s 2s/step - loss: 0.5510 - accuracy: 0.8406 - val_loss: 0.7567 - val_accuracy: 0.7708\n",
      "Epoch 7/25\n",
      "20/20 [==============================] - 48s 2s/step - loss: 0.4770 - accuracy: 0.8422 - val_loss: 0.5037 - val_accuracy: 0.8021\n",
      "Epoch 8/25\n",
      "20/20 [==============================] - 37s 2s/step - loss: 0.5358 - accuracy: 0.8500 - val_loss: 0.2869 - val_accuracy: 0.8958\n",
      "Epoch 9/25\n",
      "20/20 [==============================] - 43s 2s/step - loss: 0.4467 - accuracy: 0.8609 - val_loss: 0.5031 - val_accuracy: 0.8750\n",
      "Epoch 10/25\n",
      "20/20 [==============================] - 50s 2s/step - loss: 0.4556 - accuracy: 0.8625 - val_loss: 0.3535 - val_accuracy: 0.8958\n",
      "Epoch 11/25\n",
      "20/20 [==============================] - 48s 2s/step - loss: 0.3638 - accuracy: 0.8844 - val_loss: 0.3437 - val_accuracy: 0.8750\n",
      "Epoch 12/25\n",
      "20/20 [==============================] - 44s 2s/step - loss: 0.3681 - accuracy: 0.8938 - val_loss: 0.3601 - val_accuracy: 0.9167\n",
      "Epoch 13/25\n",
      "20/20 [==============================] - 63s 3s/step - loss: 0.4107 - accuracy: 0.8875 - val_loss: 0.2959 - val_accuracy: 0.9167\n",
      "Epoch 14/25\n",
      "20/20 [==============================] - 46s 2s/step - loss: 0.3644 - accuracy: 0.8953 - val_loss: 0.3658 - val_accuracy: 0.8750\n",
      "Epoch 15/25\n",
      "20/20 [==============================] - 43s 2s/step - loss: 0.3626 - accuracy: 0.8906 - val_loss: 0.2299 - val_accuracy: 0.9479\n",
      "Epoch 16/25\n",
      "20/20 [==============================] - 43s 2s/step - loss: 0.3112 - accuracy: 0.9000 - val_loss: 0.4315 - val_accuracy: 0.8542\n",
      "Epoch 17/25\n",
      "20/20 [==============================] - 46s 2s/step - loss: 0.3077 - accuracy: 0.9188 - val_loss: 0.3239 - val_accuracy: 0.9271\n",
      "Epoch 18/25\n",
      "20/20 [==============================] - 31s 2s/step - loss: 0.3415 - accuracy: 0.9000 - val_loss: 0.5018 - val_accuracy: 0.8438\n",
      "Epoch 19/25\n",
      "20/20 [==============================] - 41s 2s/step - loss: 0.2579 - accuracy: 0.9312 - val_loss: 0.2699 - val_accuracy: 0.8958\n",
      "Epoch 20/25\n",
      "20/20 [==============================] - 39s 2s/step - loss: 0.2644 - accuracy: 0.9172 - val_loss: 0.3944 - val_accuracy: 0.9167\n",
      "Epoch 21/25\n",
      "20/20 [==============================] - 48s 2s/step - loss: 0.2709 - accuracy: 0.9156 - val_loss: 0.2214 - val_accuracy: 0.9167\n",
      "Epoch 22/25\n",
      "20/20 [==============================] - 50s 3s/step - loss: 0.3473 - accuracy: 0.9031 - val_loss: 0.2017 - val_accuracy: 0.9167\n",
      "Epoch 23/25\n",
      "20/20 [==============================] - 42s 2s/step - loss: 0.2284 - accuracy: 0.9297 - val_loss: 0.3367 - val_accuracy: 0.9271\n",
      "Epoch 24/25\n",
      "20/20 [==============================] - 33s 2s/step - loss: 0.2028 - accuracy: 0.9375 - val_loss: 0.3229 - val_accuracy: 0.9062\n",
      "Epoch 25/25\n",
      "20/20 [==============================] - 43s 2s/step - loss: 0.2502 - accuracy: 0.9375 - val_loss: 0.3095 - val_accuracy: 0.9167\n"
     ]
    }
   ],
   "source": [
    "history = model.fit(train_generator, \n",
    "                    validation_data = test_generator, \n",
    "                    epochs = 25, \n",
    "                    verbose = 1, \n",
    "                    steps_per_epoch = 20, \n",
    "                    validation_steps = 3)"
   ]
  },
  {
   "cell_type": "markdown",
   "id": "47217052",
   "metadata": {},
   "source": [
    "### Build the Model"
   ]
  },
  {
   "cell_type": "code",
   "execution_count": 18,
   "id": "8600bf05",
   "metadata": {},
   "outputs": [],
   "source": [
    "model2 = tf.keras.models.Sequential([\n",
    "    hub.KerasLayer(mobilenet_v2_100, trainable = False, input_shape = (160,160,3), name = 'mobilenet_v2_100'),\n",
    "    tf.keras.layers.Flatten(),\n",
    "    tf.keras.layers.Dense(256, activation = 'relu'),\n",
    "    tf.keras.layers.Dropout(0.2),\n",
    "    tf.keras.layers.Dense(15, activation = 'softmax')\n",
    "])"
   ]
  },
  {
   "cell_type": "code",
   "execution_count": 19,
   "id": "fd9acb0c",
   "metadata": {},
   "outputs": [
    {
     "name": "stdout",
     "output_type": "stream",
     "text": [
      "Model: \"sequential_1\"\n",
      "_________________________________________________________________\n",
      "Layer (type)                 Output Shape              Param #   \n",
      "=================================================================\n",
      "mobilenet_v2_100 (KerasLayer (None, 1001)              3540265   \n",
      "_________________________________________________________________\n",
      "flatten_1 (Flatten)          (None, 1001)              0         \n",
      "_________________________________________________________________\n",
      "dense_2 (Dense)              (None, 256)               256512    \n",
      "_________________________________________________________________\n",
      "dropout (Dropout)            (None, 256)               0         \n",
      "_________________________________________________________________\n",
      "dense_3 (Dense)              (None, 15)                3855      \n",
      "=================================================================\n",
      "Total params: 3,800,632\n",
      "Trainable params: 260,367\n",
      "Non-trainable params: 3,540,265\n",
      "_________________________________________________________________\n"
     ]
    }
   ],
   "source": [
    "model2.summary()"
   ]
  },
  {
   "cell_type": "code",
   "execution_count": 20,
   "id": "bad93143",
   "metadata": {},
   "outputs": [],
   "source": [
    "model2.compile(loss = 'categorical_crossentropy', \n",
    "              optimizer = 'adam', \n",
    "              metrics = ['accuracy'])"
   ]
  },
  {
   "cell_type": "markdown",
   "id": "b976cd09",
   "metadata": {},
   "source": [
    "### Train the Model"
   ]
  },
  {
   "cell_type": "code",
   "execution_count": 21,
   "id": "07b14b0f",
   "metadata": {
    "scrolled": true
   },
   "outputs": [
    {
     "name": "stdout",
     "output_type": "stream",
     "text": [
      "Epoch 1/25\n",
      "20/20 [==============================] - 34s 2s/step - loss: 2.2483 - accuracy: 0.3490 - val_loss: 0.9527 - val_accuracy: 0.6875\n",
      "Epoch 2/25\n",
      "20/20 [==============================] - 33s 2s/step - loss: 1.1142 - accuracy: 0.6484 - val_loss: 0.9777 - val_accuracy: 0.6875\n",
      "Epoch 3/25\n",
      "20/20 [==============================] - 39s 2s/step - loss: 0.8353 - accuracy: 0.7297 - val_loss: 0.7940 - val_accuracy: 0.7188\n",
      "Epoch 4/25\n",
      "20/20 [==============================] - 29s 1s/step - loss: 0.9033 - accuracy: 0.7109 - val_loss: 0.5775 - val_accuracy: 0.8021\n",
      "Epoch 5/25\n",
      "20/20 [==============================] - 42s 2s/step - loss: 0.7767 - accuracy: 0.7812 - val_loss: 0.7503 - val_accuracy: 0.7708\n",
      "Epoch 6/25\n",
      "20/20 [==============================] - 46s 2s/step - loss: 0.7978 - accuracy: 0.7672 - val_loss: 0.6999 - val_accuracy: 0.8021\n",
      "Epoch 7/25\n",
      "20/20 [==============================] - 46s 2s/step - loss: 0.7086 - accuracy: 0.7844 - val_loss: 0.4363 - val_accuracy: 0.8333\n",
      "Epoch 8/25\n",
      "20/20 [==============================] - 45s 2s/step - loss: 0.6701 - accuracy: 0.7844 - val_loss: 0.5261 - val_accuracy: 0.8542\n",
      "Epoch 9/25\n",
      "20/20 [==============================] - 32s 2s/step - loss: 0.5997 - accuracy: 0.8068 - val_loss: 0.6037 - val_accuracy: 0.8125\n",
      "Epoch 10/25\n",
      "20/20 [==============================] - 40s 2s/step - loss: 0.6713 - accuracy: 0.8125 - val_loss: 0.4295 - val_accuracy: 0.8438\n",
      "Epoch 11/25\n",
      "20/20 [==============================] - 43s 2s/step - loss: 0.5687 - accuracy: 0.8219 - val_loss: 0.4442 - val_accuracy: 0.8646\n",
      "Epoch 12/25\n",
      "20/20 [==============================] - 33s 2s/step - loss: 0.6099 - accuracy: 0.8101 - val_loss: 0.4325 - val_accuracy: 0.8646\n",
      "Epoch 13/25\n",
      "20/20 [==============================] - 41s 2s/step - loss: 0.4667 - accuracy: 0.8474 - val_loss: 0.4881 - val_accuracy: 0.8646\n",
      "Epoch 14/25\n",
      "20/20 [==============================] - 44s 2s/step - loss: 0.6059 - accuracy: 0.8297 - val_loss: 0.5964 - val_accuracy: 0.8333\n",
      "Epoch 15/25\n",
      "20/20 [==============================] - 36s 2s/step - loss: 0.4714 - accuracy: 0.8516 - val_loss: 0.3454 - val_accuracy: 0.8750\n",
      "Epoch 16/25\n",
      "20/20 [==============================] - 38s 2s/step - loss: 0.5282 - accuracy: 0.8422 - val_loss: 0.5293 - val_accuracy: 0.8646\n",
      "Epoch 17/25\n",
      "20/20 [==============================] - 45s 2s/step - loss: 0.5207 - accuracy: 0.8516 - val_loss: 0.5188 - val_accuracy: 0.8750\n",
      "Epoch 18/25\n",
      "20/20 [==============================] - 40s 2s/step - loss: 0.4445 - accuracy: 0.8672 - val_loss: 0.4100 - val_accuracy: 0.8646\n",
      "Epoch 19/25\n",
      "20/20 [==============================] - 36s 2s/step - loss: 0.4476 - accuracy: 0.8578 - val_loss: 0.4534 - val_accuracy: 0.8750\n",
      "Epoch 20/25\n",
      "20/20 [==============================] - 38s 2s/step - loss: 0.4203 - accuracy: 0.8687 - val_loss: 0.4075 - val_accuracy: 0.8333\n",
      "Epoch 21/25\n",
      "20/20 [==============================] - 52s 3s/step - loss: 0.3702 - accuracy: 0.8906 - val_loss: 0.4183 - val_accuracy: 0.8646\n",
      "Epoch 22/25\n",
      "20/20 [==============================] - 34s 2s/step - loss: 0.3976 - accuracy: 0.8859 - val_loss: 0.2812 - val_accuracy: 0.9062\n",
      "Epoch 23/25\n",
      "20/20 [==============================] - 42s 2s/step - loss: 0.3611 - accuracy: 0.8875 - val_loss: 0.3154 - val_accuracy: 0.9479\n",
      "Epoch 24/25\n",
      "20/20 [==============================] - 36s 2s/step - loss: 0.3978 - accuracy: 0.8844 - val_loss: 0.4267 - val_accuracy: 0.8750\n",
      "Epoch 25/25\n",
      "20/20 [==============================] - 31s 2s/step - loss: 0.3734 - accuracy: 0.8797 - val_loss: 0.5092 - val_accuracy: 0.8333\n"
     ]
    }
   ],
   "source": [
    "history2 = model2.fit(train_generator, \n",
    "                      validation_data = test_generator, \n",
    "                      epochs = 25, \n",
    "                      verbose = 1, \n",
    "                      steps_per_epoch = 20, \n",
    "                      validation_steps = 3)"
   ]
  },
  {
   "cell_type": "markdown",
   "id": "72fdd1e7",
   "metadata": {},
   "source": [
    "### Evaluate the Model"
   ]
  },
  {
   "cell_type": "code",
   "execution_count": 22,
   "id": "bd6c00d8",
   "metadata": {},
   "outputs": [
    {
     "data": {
      "image/png": "[encoded data removed]",
      "text/plain": [
       "<Figure size 432x288 with 1 Axes>"
      ]
     },
     "metadata": {
      "needs_background": "light"
     },
     "output_type": "display_data"
    },
    {
     "data": {
      "image/png": "[encoded data removed]",
      "text/plain": [
       "<Figure size 432x288 with 1 Axes>"
      ]
     },
     "metadata": {
      "needs_background": "light"
     },
     "output_type": "display_data"
    }
   ],
   "source": [
    "acc = history.history['accuracy']\n",
    "val_acc = history.history['val_accuracy']\n",
    "loss = history.history['loss']\n",
    "val_loss = history.history['val_loss']\n",
    "\n",
    "epochs = range(len(acc))\n",
    "\n",
    "plt.plot(epochs, acc, 'r', label = 'Training Accuracy')\n",
    "plt.plot(epochs, val_acc, 'b', label = 'Validation Accuracy')\n",
    "plt.title('Training and Validation Accuracy')\n",
    "plt.legend()\n",
    "plt.figure()\n",
    "\n",
    "plt.plot(epochs, loss, 'r', label = 'Training Loss')\n",
    "plt.plot(epochs, val_loss, 'b', label = 'Validation Loss')\n",
    "plt.title('Training and Validation Loss')\n",
    "plt.legend()\n",
    "\n",
    "plt.show()"
   ]
  },
  {
   "cell_type": "markdown",
   "id": "a0e5b2ac",
   "metadata": {},
   "source": [
    "### Save the Model"
   ]
  },
  {
   "cell_type": "code",
   "execution_count": 23,
   "id": "81aec00a",
   "metadata": {},
   "outputs": [
    {
     "name": "stdout",
     "output_type": "stream",
     "text": [
      "WARNING:tensorflow:From D:\\anaconda3\\lib\\site-packages\\tensorflow\\python\\training\\tracking\\tracking.py:111: Model.state_updates (from tensorflow.python.keras.engine.training) is deprecated and will be removed in a future version.\n",
      "Instructions for updating:\n",
      "This property should not be used in TensorFlow 2.0, as updates are applied automatically.\n"
     ]
    },
    {
     "name": "stderr",
     "output_type": "stream",
     "text": [
      "WARNING:tensorflow:From D:\\anaconda3\\lib\\site-packages\\tensorflow\\python\\training\\tracking\\tracking.py:111: Model.state_updates (from tensorflow.python.keras.engine.training) is deprecated and will be removed in a future version.\n",
      "Instructions for updating:\n",
      "This property should not be used in TensorFlow 2.0, as updates are applied automatically.\n"
     ]
    },
    {
     "name": "stdout",
     "output_type": "stream",
     "text": [
      "WARNING:tensorflow:From D:\\anaconda3\\lib\\site-packages\\tensorflow\\python\\training\\tracking\\tracking.py:111: Layer.updates (from tensorflow.python.keras.engine.base_layer) is deprecated and will be removed in a future version.\n",
      "Instructions for updating:\n",
      "This property should not be used in TensorFlow 2.0, as updates are applied automatically.\n"
     ]
    },
    {
     "name": "stderr",
     "output_type": "stream",
     "text": [
      "WARNING:tensorflow:From D:\\anaconda3\\lib\\site-packages\\tensorflow\\python\\training\\tracking\\tracking.py:111: Layer.updates (from tensorflow.python.keras.engine.base_layer) is deprecated and will be removed in a future version.\n",
      "Instructions for updating:\n",
      "This property should not be used in TensorFlow 2.0, as updates are applied automatically.\n"
     ]
    },
    {
     "name": "stdout",
     "output_type": "stream",
     "text": [
      "INFO:tensorflow:Assets written to: CapstoneModel90val\\assets\n"
     ]
    },
    {
     "name": "stderr",
     "output_type": "stream",
     "text": [
      "INFO:tensorflow:Assets written to: CapstoneModel90val\\assets\n"
     ]
    }
   ],
   "source": [
    "model2.save('CapstoneModel90val')"
   ]
  },
  {
   "cell_type": "code",
   "execution_count": 24,
   "id": "10484af9",
   "metadata": {},
   "outputs": [
    {
     "name": "stderr",
     "output_type": "stream",
     "text": [
      "'zip' is not recognized as an internal or external command,\n",
      "operable program or batch file.\n"
     ]
    }
   ],
   "source": [
    "!zip -r /content/capstone.zip /content/CapstoneModel90val"
   ]
  },
  {
   "cell_type": "code",
   "execution_count": 25,
   "id": "df03ad1f",
   "metadata": {},
   "outputs": [],
   "source": [
    "model2.save('CapstoneModel90val.h5')"
   ]
  },
  {
   "cell_type": "code",
   "execution_count": 26,
   "id": "978e107c",
   "metadata": {
    "scrolled": true
   },
   "outputs": [
    {
     "name": "stderr",
     "output_type": "stream",
     "text": [
      "'zip' is not recognized as an internal or external command,\n",
      "operable program or batch file.\n"
     ]
    }
   ],
   "source": [
    "!zip -r /content/capstoneh5.zip /content/CapstoneModel90valh5"
   ]
  },
  {
   "cell_type": "markdown",
   "id": "9ea18d51",
   "metadata": {},
   "source": [
    "# <center>Third Test (Selected Model)<center>"
   ]
  },
  {
   "cell_type": "markdown",
   "id": "9ae2aacc",
   "metadata": {},
   "source": [
    "### Transfer Learning"
   ]
  },
  {
   "cell_type": "code",
   "execution_count": 5,
   "id": "732aee3e",
   "metadata": {},
   "outputs": [],
   "source": [
    "ResNet_V2_50 = 'https://tfhub.dev/google/imagenet/resnet_v2_50/classification/5'\n",
    "mobilenet_v2_100 = 'https://tfhub.dev/google/imagenet/mobilenet_v2_100_160/classification/5'"
   ]
  },
  {
   "cell_type": "code",
   "execution_count": 6,
   "id": "727d4872",
   "metadata": {},
   "outputs": [],
   "source": [
    "base_model = tf.keras.applications.MobileNetV2(input_shape = (160, 160, 3),\n",
    "                                               include_top = False,\n",
    "                                               weights = 'imagenet')"
   ]
  },
  {
   "cell_type": "code",
   "execution_count": 7,
   "id": "b55b2192",
   "metadata": {},
   "outputs": [],
   "source": [
    "model = tf.keras.models.Sequential([\n",
    "    hub.KerasLayer(mobilenet_v2_100, trainable = False, input_shape = (160, 160, 3), name = 'mobilenet_v2_100'),\n",
    "    tf.keras.layers.Flatten(),\n",
    "    tf.keras.layers.Dense(256, activation = 'relu'),\n",
    "    tf.keras.layers.Dense(15, activation = 'softmax')\n",
    "])"
   ]
  },
  {
   "cell_type": "code",
   "execution_count": 8,
   "id": "e9439f8d",
   "metadata": {
    "scrolled": true
   },
   "outputs": [
    {
     "name": "stdout",
     "output_type": "stream",
     "text": [
      "Model: \"sequential\"\n",
      "_________________________________________________________________\n",
      "Layer (type)                 Output Shape              Param #   \n",
      "=================================================================\n",
      "mobilenet_v2_100 (KerasLayer (None, 1001)              3540265   \n",
      "_________________________________________________________________\n",
      "flatten (Flatten)            (None, 1001)              0         \n",
      "_________________________________________________________________\n",
      "dense (Dense)                (None, 256)               256512    \n",
      "_________________________________________________________________\n",
      "dense_1 (Dense)              (None, 15)                3855      \n",
      "=================================================================\n",
      "Total params: 3,800,632\n",
      "Trainable params: 260,367\n",
      "Non-trainable params: 3,540,265\n",
      "_________________________________________________________________\n"
     ]
    }
   ],
   "source": [
    "model.summary()"
   ]
  },
  {
   "cell_type": "code",
   "execution_count": 9,
   "id": "a67dd1ce",
   "metadata": {},
   "outputs": [],
   "source": [
    "model.compile(loss = 'categorical_crossentropy', \n",
    "              optimizer = 'adam', \n",
    "              metrics = ['accuracy'])"
   ]
  },
  {
   "cell_type": "markdown",
   "id": "a3a15a64",
   "metadata": {},
   "source": [
    "### Prepare the ImageDataGenerator"
   ]
  },
  {
   "cell_type": "code",
   "execution_count": 10,
   "id": "6888cf87",
   "metadata": {},
   "outputs": [
    {
     "name": "stdout",
     "output_type": "stream",
     "text": [
      "Found 7464 images belonging to 15 classes.\n",
      "Found 2988 images belonging to 15 classes.\n"
     ]
    }
   ],
   "source": [
    "TRAINING_DIR = 'food_images/train'\n",
    "training_datagen = ImageDataGenerator(rescale = 1./255)\n",
    "\n",
    "VALIDATION_DIR = 'food_images/test'\n",
    "validation_datagen = ImageDataGenerator(rescale = 1./255)\n",
    "\n",
    "train_generator = training_datagen.flow_from_directory(\n",
    "  TRAINING_DIR,\n",
    "  target_size = (160, 160),\n",
    "  class_mode = 'categorical',\n",
    "  batch_size = 32,\n",
    ")\n",
    "\n",
    "test_generator = training_datagen.flow_from_directory(\n",
    "  VALIDATION_DIR,\n",
    "  target_size = (160, 160),\n",
    "  class_mode = 'categorical',\n",
    "  batch_size = 32,\n",
    ")"
   ]
  },
  {
   "cell_type": "code",
   "execution_count": 12,
   "id": "148917f7",
   "metadata": {},
   "outputs": [
    {
     "name": "stdout",
     "output_type": "stream",
     "text": [
      "Epoch 1/15\n",
      "20/20 [==============================] - 26s 1s/step - loss: 1.9219 - accuracy: 0.4219 - val_loss: 0.9905 - val_accuracy: 0.7083\n",
      "Epoch 2/15\n",
      "20/20 [==============================] - 30s 1s/step - loss: 1.0524 - accuracy: 0.6812 - val_loss: 0.5270 - val_accuracy: 0.7812\n",
      "Epoch 3/15\n",
      "20/20 [==============================] - 24s 1s/step - loss: 0.8045 - accuracy: 0.7297 - val_loss: 0.7630 - val_accuracy: 0.7188\n",
      "Epoch 4/15\n",
      "20/20 [==============================] - 27s 1s/step - loss: 0.7538 - accuracy: 0.7937 - val_loss: 0.8255 - val_accuracy: 0.7083\n",
      "Epoch 5/15\n",
      "20/20 [==============================] - 26s 1s/step - loss: 0.7555 - accuracy: 0.7750 - val_loss: 0.7979 - val_accuracy: 0.7708\n",
      "Epoch 6/15\n",
      "20/20 [==============================] - 28s 1s/step - loss: 0.6571 - accuracy: 0.8031 - val_loss: 0.4529 - val_accuracy: 0.8542\n",
      "Epoch 7/15\n",
      "20/20 [==============================] - 25s 1s/step - loss: 0.6383 - accuracy: 0.8031 - val_loss: 0.6377 - val_accuracy: 0.8125\n",
      "Epoch 8/15\n",
      "20/20 [==============================] - 20s 975ms/step - loss: 0.6078 - accuracy: 0.8047 - val_loss: 0.6605 - val_accuracy: 0.8333\n",
      "Epoch 9/15\n",
      "20/20 [==============================] - 25s 1s/step - loss: 0.5010 - accuracy: 0.8442 - val_loss: 0.3991 - val_accuracy: 0.8542\n",
      "Epoch 10/15\n",
      "20/20 [==============================] - 20s 991ms/step - loss: 0.5703 - accuracy: 0.8234 - val_loss: 0.3247 - val_accuracy: 0.8958\n",
      "Epoch 11/15\n",
      "20/20 [==============================] - 22s 1s/step - loss: 0.5331 - accuracy: 0.8406 - val_loss: 0.5792 - val_accuracy: 0.8333\n",
      "Epoch 12/15\n",
      "20/20 [==============================] - 22s 1s/step - loss: 0.5144 - accuracy: 0.8344 - val_loss: 0.5660 - val_accuracy: 0.8438\n",
      "Epoch 13/15\n",
      "20/20 [==============================] - 22s 1s/step - loss: 0.4498 - accuracy: 0.8578 - val_loss: 0.4202 - val_accuracy: 0.8750\n",
      "Epoch 14/15\n",
      "20/20 [==============================] - 21s 1s/step - loss: 0.3794 - accuracy: 0.8750 - val_loss: 0.3945 - val_accuracy: 0.8646\n",
      "Epoch 15/15\n",
      "20/20 [==============================] - 19s 961ms/step - loss: 0.3871 - accuracy: 0.8945 - val_loss: 0.3914 - val_accuracy: 0.8854\n"
     ]
    }
   ],
   "source": [
    "history = model.fit(train_generator, \n",
    "                      validation_data = test_generator, \n",
    "                      epochs = 15, \n",
    "                      verbose = 1, \n",
    "                      steps_per_epoch = 20, \n",
    "                      validation_steps = 3)"
   ]
  },
  {
   "cell_type": "markdown",
   "id": "55eb62a7",
   "metadata": {},
   "source": [
    "### Build the Model"
   ]
  },
  {
   "cell_type": "code",
   "execution_count": 13,
   "id": "237cf6e8",
   "metadata": {},
   "outputs": [],
   "source": [
    "model3 = tf.keras.models.Sequential([\n",
    "    hub.KerasLayer(mobilenet_v2_100, trainable = False, input_shape = (160,160,3), name = 'mobilenet_v2_100'),\n",
    "    tf.keras.layers.Flatten(),\n",
    "    tf.keras.layers.Dense(512, activation = 'relu'),\n",
    "    tf.keras.layers.Dropout(0.2),\n",
    "    tf.keras.layers.Dense(256, activation = 'relu'),\n",
    "    tf.keras.layers.Dense(15, activation = 'softmax')\n",
    "])"
   ]
  },
  {
   "cell_type": "code",
   "execution_count": 14,
   "id": "6e344af2",
   "metadata": {},
   "outputs": [
    {
     "name": "stdout",
     "output_type": "stream",
     "text": [
      "Model: \"sequential_1\"\n",
      "_________________________________________________________________\n",
      "Layer (type)                 Output Shape              Param #   \n",
      "=================================================================\n",
      "mobilenet_v2_100 (KerasLayer (None, 1001)              3540265   \n",
      "_________________________________________________________________\n",
      "flatten_1 (Flatten)          (None, 1001)              0         \n",
      "_________________________________________________________________\n",
      "dense_2 (Dense)              (None, 512)               513024    \n",
      "_________________________________________________________________\n",
      "dropout (Dropout)            (None, 512)               0         \n",
      "_________________________________________________________________\n",
      "dense_3 (Dense)              (None, 256)               131328    \n",
      "_________________________________________________________________\n",
      "dense_4 (Dense)              (None, 15)                3855      \n",
      "=================================================================\n",
      "Total params: 4,188,472\n",
      "Trainable params: 648,207\n",
      "Non-trainable params: 3,540,265\n",
      "_________________________________________________________________\n"
     ]
    }
   ],
   "source": [
    "model3.summary()"
   ]
  },
  {
   "cell_type": "code",
   "execution_count": 15,
   "id": "fc1d6d2e",
   "metadata": {},
   "outputs": [],
   "source": [
    "model3.compile(loss = 'categorical_crossentropy', \n",
    "              optimizer = 'adam', \n",
    "              metrics = ['accuracy'])"
   ]
  },
  {
   "cell_type": "markdown",
   "id": "290fe7aa",
   "metadata": {},
   "source": [
    "### Train the Model"
   ]
  },
  {
   "cell_type": "code",
   "execution_count": 16,
   "id": "7c5e2300",
   "metadata": {},
   "outputs": [
    {
     "name": "stdout",
     "output_type": "stream",
     "text": [
      "Epoch 1/15\n",
      "20/20 [==============================] - 23s 1s/step - loss: 1.9418 - accuracy: 0.4281 - val_loss: 1.1505 - val_accuracy: 0.6458\n",
      "Epoch 2/15\n",
      "20/20 [==============================] - 18s 902ms/step - loss: 1.0844 - accuracy: 0.6875 - val_loss: 0.7487 - val_accuracy: 0.7292\n",
      "Epoch 3/15\n",
      "20/20 [==============================] - 21s 1s/step - loss: 0.9243 - accuracy: 0.7078 - val_loss: 0.5964 - val_accuracy: 0.8229\n",
      "Epoch 4/15\n",
      "20/20 [==============================] - 17s 866ms/step - loss: 0.7672 - accuracy: 0.7688 - val_loss: 0.5119 - val_accuracy: 0.8229\n",
      "Epoch 5/15\n",
      "20/20 [==============================] - 19s 943ms/step - loss: 0.8401 - accuracy: 0.7565 - val_loss: 0.7295 - val_accuracy: 0.7396\n",
      "Epoch 6/15\n",
      "20/20 [==============================] - 16s 816ms/step - loss: 0.7272 - accuracy: 0.7625 - val_loss: 0.8888 - val_accuracy: 0.6771\n",
      "Epoch 7/15\n",
      "20/20 [==============================] - 19s 943ms/step - loss: 0.7941 - accuracy: 0.7531 - val_loss: 0.6695 - val_accuracy: 0.7708\n",
      "Epoch 8/15\n",
      "20/20 [==============================] - 19s 927ms/step - loss: 0.6178 - accuracy: 0.8141 - val_loss: 0.5240 - val_accuracy: 0.8229\n",
      "Epoch 9/15\n",
      "20/20 [==============================] - 18s 900ms/step - loss: 0.6860 - accuracy: 0.7922 - val_loss: 0.3992 - val_accuracy: 0.8750\n",
      "Epoch 10/15\n",
      "20/20 [==============================] - 19s 938ms/step - loss: 0.5834 - accuracy: 0.8062 - val_loss: 0.6510 - val_accuracy: 0.7188\n",
      "Epoch 11/15\n",
      "20/20 [==============================] - 17s 873ms/step - loss: 0.6099 - accuracy: 0.7969 - val_loss: 0.7009 - val_accuracy: 0.7708\n",
      "Epoch 12/15\n",
      "20/20 [==============================] - 16s 781ms/step - loss: 0.5263 - accuracy: 0.8297 - val_loss: 0.4414 - val_accuracy: 0.8542\n",
      "Epoch 13/15\n",
      "20/20 [==============================] - 18s 888ms/step - loss: 0.5588 - accuracy: 0.8391 - val_loss: 0.2996 - val_accuracy: 0.8958\n",
      "Epoch 14/15\n",
      "20/20 [==============================] - 15s 745ms/step - loss: 0.5282 - accuracy: 0.8281 - val_loss: 0.2920 - val_accuracy: 0.9167\n",
      "Epoch 15/15\n",
      "20/20 [==============================] - 16s 791ms/step - loss: 0.4759 - accuracy: 0.8578 - val_loss: 0.5573 - val_accuracy: 0.8646\n"
     ]
    }
   ],
   "source": [
    "history3 = model3.fit(train_generator, \n",
    "                      validation_data = test_generator, \n",
    "                      epochs = 15, \n",
    "                      verbose = 1, \n",
    "                      steps_per_epoch = 20, \n",
    "                      validation_steps = 3)"
   ]
  },
  {
   "cell_type": "markdown",
   "id": "3d7f3846",
   "metadata": {},
   "source": [
    "### Evaluate the Model"
   ]
  },
  {
   "cell_type": "code",
   "execution_count": 17,
   "id": "fa29e292",
   "metadata": {},
   "outputs": [
    {
     "data": {
      "image/png": "[encoded data removed]",
      "text/plain": [
       "<Figure size 432x288 with 1 Axes>"
      ]
     },
     "metadata": {
      "needs_background": "light"
     },
     "output_type": "display_data"
    },
    {
     "data": {
      "image/png": "[encoded data removed]",
      "text/plain": [
       "<Figure size 432x288 with 1 Axes>"
      ]
     },
     "metadata": {
      "needs_background": "light"
     },
     "output_type": "display_data"
    }
   ],
   "source": [
    "acc = history.history['accuracy']\n",
    "val_acc = history.history['val_accuracy']\n",
    "loss = history.history['loss']\n",
    "val_loss = history.history['val_loss']\n",
    "\n",
    "epochs = range(len(acc))\n",
    "\n",
    "plt.plot(epochs, acc, 'r', label = 'Training Accuracy')\n",
    "plt.plot(epochs, val_acc, 'b', label = 'Validation Accuracy')\n",
    "plt.title('Training and Validation Accuracy')\n",
    "plt.legend()\n",
    "plt.figure()\n",
    "\n",
    "plt.plot(epochs, loss, 'r', label = 'Training Loss')\n",
    "plt.plot(epochs, val_loss, 'b', label = 'Validation Loss')\n",
    "plt.title('Training and Validation Loss')\n",
    "plt.legend()\n",
    "\n",
    "plt.show()"
   ]
  },
  {
   "cell_type": "markdown",
   "id": "80346248",
   "metadata": {},
   "source": [
    "### Save the Model"
   ]
  },
  {
   "cell_type": "code",
   "execution_count": 18,
   "id": "5a202698",
   "metadata": {},
   "outputs": [
    {
     "name": "stdout",
     "output_type": "stream",
     "text": [
      "WARNING:tensorflow:From D:\\anaconda3\\lib\\site-packages\\tensorflow\\python\\training\\tracking\\tracking.py:111: Model.state_updates (from tensorflow.python.keras.engine.training) is deprecated and will be removed in a future version.\n",
      "Instructions for updating:\n",
      "This property should not be used in TensorFlow 2.0, as updates are applied automatically.\n"
     ]
    },
    {
     "name": "stderr",
     "output_type": "stream",
     "text": [
      "WARNING:tensorflow:From D:\\anaconda3\\lib\\site-packages\\tensorflow\\python\\training\\tracking\\tracking.py:111: Model.state_updates (from tensorflow.python.keras.engine.training) is deprecated and will be removed in a future version.\n",
      "Instructions for updating:\n",
      "This property should not be used in TensorFlow 2.0, as updates are applied automatically.\n"
     ]
    },
    {
     "name": "stdout",
     "output_type": "stream",
     "text": [
      "WARNING:tensorflow:From D:\\anaconda3\\lib\\site-packages\\tensorflow\\python\\training\\tracking\\tracking.py:111: Layer.updates (from tensorflow.python.keras.engine.base_layer) is deprecated and will be removed in a future version.\n",
      "Instructions for updating:\n",
      "This property should not be used in TensorFlow 2.0, as updates are applied automatically.\n"
     ]
    },
    {
     "name": "stderr",
     "output_type": "stream",
     "text": [
      "WARNING:tensorflow:From D:\\anaconda3\\lib\\site-packages\\tensorflow\\python\\training\\tracking\\tracking.py:111: Layer.updates (from tensorflow.python.keras.engine.base_layer) is deprecated and will be removed in a future version.\n",
      "Instructions for updating:\n",
      "This property should not be used in TensorFlow 2.0, as updates are applied automatically.\n"
     ]
    },
    {
     "name": "stdout",
     "output_type": "stream",
     "text": [
      "INFO:tensorflow:Assets written to: CapstoneModel90val\\assets\n"
     ]
    },
    {
     "name": "stderr",
     "output_type": "stream",
     "text": [
      "INFO:tensorflow:Assets written to: CapstoneModel90val\\assets\n"
     ]
    }
   ],
   "source": [
    "model3.save('CapstoneModel90val')"
   ]
  },
  {
   "cell_type": "code",
   "execution_count": 19,
   "id": "b763ffb4",
   "metadata": {},
   "outputs": [
    {
     "name": "stderr",
     "output_type": "stream",
     "text": [
      "'zip' is not recognized as an internal or external command,\n",
      "operable program or batch file.\n"
     ]
    }
   ],
   "source": [
    "!zip -r /content/capstone.zip /content/CapstoneModel90val"
   ]
  },
  {
   "cell_type": "code",
   "execution_count": 21,
   "id": "8deacc25",
   "metadata": {},
   "outputs": [],
   "source": [
    "model3.save('CapstoneModel90val.h5')"
   ]
  },
  {
   "cell_type": "code",
   "execution_count": 22,
   "id": "023b7670",
   "metadata": {},
   "outputs": [
    {
     "name": "stderr",
     "output_type": "stream",
     "text": [
      "'zip' is not recognized as an internal or external command,\n",
      "operable program or batch file.\n"
     ]
    }
   ],
   "source": [
    "!zip -r /content/capstoneh5.zip /content/CapstoneModel90valh5"
   ]
  },
  {
   "cell_type": "markdown",
   "id": "74bcb6d3",
   "metadata": {},
   "source": [
    "# <center>Fourth Test<center>"
   ]
  },
  {
   "cell_type": "markdown",
   "id": "2cb6efe1",
   "metadata": {},
   "source": [
    "### Build the Model"
   ]
  },
  {
   "cell_type": "code",
   "execution_count": 280,
   "id": "22fa436f",
   "metadata": {},
   "outputs": [],
   "source": [
    "model = tf.keras.models.Sequential([\n",
    "    tf.keras.layers.Conv2D(32, (3, 3), activation = 'relu', input_shape = (150, 150, 3)),\n",
    "    tf.keras.layers.MaxPooling2D(2, 2),\n",
    "    tf.keras.layers.Conv2D(64, (3, 3), activation = 'relu'),\n",
    "    tf.keras.layers.MaxPooling2D(2,2),\n",
    "    tf.keras.layers.MaxPooling2D(2, 2),\n",
    "    tf.keras.layers.Flatten(),\n",
    "    tf.keras.layers.Dense(512, activation = 'relu'),\n",
    "    tf.keras.layers.Dense(15, activation = 'softmax'), \n",
    "])"
   ]
  },
  {
   "cell_type": "code",
   "execution_count": 281,
   "id": "b4ecb108",
   "metadata": {},
   "outputs": [
    {
     "name": "stdout",
     "output_type": "stream",
     "text": [
      "Model: \"sequential_22\"\n",
      "_________________________________________________________________\n",
      "Layer (type)                 Output Shape              Param #   \n",
      "=================================================================\n",
      "conv2d_54 (Conv2D)           (None, 148, 148, 32)      896       \n",
      "_________________________________________________________________\n",
      "max_pooling2d_55 (MaxPooling (None, 74, 74, 32)        0         \n",
      "_________________________________________________________________\n",
      "conv2d_55 (Conv2D)           (None, 72, 72, 64)        18496     \n",
      "_________________________________________________________________\n",
      "max_pooling2d_56 (MaxPooling (None, 36, 36, 64)        0         \n",
      "_________________________________________________________________\n",
      "max_pooling2d_57 (MaxPooling (None, 18, 18, 64)        0         \n",
      "_________________________________________________________________\n",
      "flatten_22 (Flatten)         (None, 20736)             0         \n",
      "_________________________________________________________________\n",
      "dense_44 (Dense)             (None, 512)               10617344  \n",
      "_________________________________________________________________\n",
      "dense_45 (Dense)             (None, 15)                7695      \n",
      "=================================================================\n",
      "Total params: 10,644,431\n",
      "Trainable params: 10,644,431\n",
      "Non-trainable params: 0\n",
      "_________________________________________________________________\n"
     ]
    }
   ],
   "source": [
    "model.summary()"
   ]
  },
  {
   "cell_type": "code",
   "execution_count": 282,
   "id": "e2c59287",
   "metadata": {},
   "outputs": [],
   "source": [
    "model.compile(loss = 'categorical_crossentropy', \n",
    "              optimizer = 'adam', \n",
    "              metrics = ['accuracy'])"
   ]
  },
  {
   "cell_type": "markdown",
   "id": "8b3453c6",
   "metadata": {},
   "source": [
    "### Prepare the ImageDataGenerator"
   ]
  },
  {
   "cell_type": "code",
   "execution_count": 283,
   "id": "e173ee2a",
   "metadata": {},
   "outputs": [
    {
     "name": "stdout",
     "output_type": "stream",
     "text": [
      "Found 7464 images belonging to 15 classes.\n",
      "Found 2988 images belonging to 15 classes.\n"
     ]
    }
   ],
   "source": [
    "train_dir = 'food_images/train'\n",
    "training_datagen = ImageDataGenerator(rescale = 1./255)\n",
    "\n",
    "test_dir = 'food_images/test'\n",
    "validation_datagen = ImageDataGenerator(rescale = 1./255)\n",
    "\n",
    "train_generator = training_datagen.flow_from_directory(\n",
    "   train_dir,\n",
    "   target_size = (150, 150),\n",
    "   class_mode = 'categorical',\n",
    "   batch_size = 32\n",
    ")\n",
    "\n",
    "validation_generator = validation_datagen.flow_from_directory(\n",
    "   test_dir,\n",
    "   target_size = (150, 150),\n",
    "   class_mode='categorical',\n",
    "   batch_size = 32\n",
    ")"
   ]
  },
  {
   "cell_type": "markdown",
   "id": "ca6a1696",
   "metadata": {},
   "source": [
    "### Train the Model"
   ]
  },
  {
   "cell_type": "code",
   "execution_count": 284,
   "id": "c0d4632a",
   "metadata": {
    "scrolled": true
   },
   "outputs": [
    {
     "name": "stdout",
     "output_type": "stream",
     "text": [
      "Epoch 1/25\n",
      "20/20 [==============================] - 19s 969ms/step - loss: 3.1681 - accuracy: 0.0672 - val_loss: 2.7077 - val_accuracy: 0.0833\n",
      "Epoch 2/25\n",
      "20/20 [==============================] - 19s 957ms/step - loss: 2.7055 - accuracy: 0.0812 - val_loss: 2.6616 - val_accuracy: 0.0833\n",
      "Epoch 3/25\n",
      "20/20 [==============================] - 19s 927ms/step - loss: 2.6875 - accuracy: 0.1125 - val_loss: 2.6437 - val_accuracy: 0.1146\n",
      "Epoch 4/25\n",
      "20/20 [==============================] - 16s 823ms/step - loss: 2.6632 - accuracy: 0.0828 - val_loss: 2.6758 - val_accuracy: 0.0625\n",
      "Epoch 5/25\n",
      "20/20 [==============================] - 18s 880ms/step - loss: 2.5855 - accuracy: 0.1375 - val_loss: 2.5762 - val_accuracy: 0.1771\n",
      "Epoch 6/25\n",
      "20/20 [==============================] - 20s 1s/step - loss: 2.5408 - accuracy: 0.1734 - val_loss: 2.5820 - val_accuracy: 0.1667\n",
      "Epoch 7/25\n",
      "20/20 [==============================] - 17s 867ms/step - loss: 2.4888 - accuracy: 0.1797 - val_loss: 2.4187 - val_accuracy: 0.1771\n",
      "Epoch 8/25\n",
      "20/20 [==============================] - 15s 740ms/step - loss: 2.2987 - accuracy: 0.2727 - val_loss: 2.3339 - val_accuracy: 0.2500\n",
      "Epoch 9/25\n",
      "20/20 [==============================] - 17s 847ms/step - loss: 2.3225 - accuracy: 0.2781 - val_loss: 2.3422 - val_accuracy: 0.2708\n",
      "Epoch 10/25\n",
      "20/20 [==============================] - 19s 973ms/step - loss: 2.1971 - accuracy: 0.3172 - val_loss: 2.2088 - val_accuracy: 0.3229\n",
      "Epoch 11/25\n",
      "20/20 [==============================] - 16s 817ms/step - loss: 2.2046 - accuracy: 0.3000 - val_loss: 2.1978 - val_accuracy: 0.3438\n",
      "Epoch 12/25\n",
      "20/20 [==============================] - 16s 795ms/step - loss: 2.0232 - accuracy: 0.3719 - val_loss: 2.0176 - val_accuracy: 0.3646\n",
      "Epoch 13/25\n",
      "20/20 [==============================] - 16s 790ms/step - loss: 1.9076 - accuracy: 0.4109 - val_loss: 1.8301 - val_accuracy: 0.4583\n",
      "Epoch 14/25\n",
      "20/20 [==============================] - 19s 937ms/step - loss: 1.7779 - accuracy: 0.4406 - val_loss: 1.7164 - val_accuracy: 0.4688\n",
      "Epoch 15/25\n",
      "20/20 [==============================] - 16s 810ms/step - loss: 1.7444 - accuracy: 0.4437 - val_loss: 1.6867 - val_accuracy: 0.4583\n",
      "Epoch 16/25\n",
      "20/20 [==============================] - 19s 928ms/step - loss: 1.7636 - accuracy: 0.4609 - val_loss: 1.8927 - val_accuracy: 0.4167\n",
      "Epoch 17/25\n",
      "20/20 [==============================] - 19s 940ms/step - loss: 1.6931 - accuracy: 0.4781 - val_loss: 1.7412 - val_accuracy: 0.4479\n",
      "Epoch 18/25\n",
      "20/20 [==============================] - 17s 865ms/step - loss: 1.6321 - accuracy: 0.5016 - val_loss: 1.8033 - val_accuracy: 0.4583\n",
      "Epoch 19/25\n",
      "20/20 [==============================] - 16s 781ms/step - loss: 1.5037 - accuracy: 0.5344 - val_loss: 1.8189 - val_accuracy: 0.4583\n",
      "Epoch 20/25\n",
      "20/20 [==============================] - 17s 833ms/step - loss: 1.5410 - accuracy: 0.4969 - val_loss: 1.5853 - val_accuracy: 0.5312\n",
      "Epoch 21/25\n",
      "20/20 [==============================] - 15s 768ms/step - loss: 1.4797 - accuracy: 0.5625 - val_loss: 1.7210 - val_accuracy: 0.4792\n",
      "Epoch 22/25\n",
      "20/20 [==============================] - 15s 772ms/step - loss: 1.3344 - accuracy: 0.5922 - val_loss: 1.4708 - val_accuracy: 0.5104\n",
      "Epoch 23/25\n",
      "20/20 [==============================] - 16s 822ms/step - loss: 1.3769 - accuracy: 0.5942 - val_loss: 1.4495 - val_accuracy: 0.6042\n",
      "Epoch 24/25\n",
      "20/20 [==============================] - 16s 794ms/step - loss: 1.2399 - accuracy: 0.6250 - val_loss: 1.3615 - val_accuracy: 0.5833\n",
      "Epoch 25/25\n",
      "20/20 [==============================] - 15s 756ms/step - loss: 1.0546 - accuracy: 0.6891 - val_loss: 1.3137 - val_accuracy: 0.5833\n"
     ]
    }
   ],
   "source": [
    "history = model.fit(train_generator, \n",
    "                    epochs = 25, \n",
    "                    steps_per_epoch = 20, \n",
    "                    validation_data = validation_generator, \n",
    "                    verbose = 1, \n",
    "                    validation_steps = 3)"
   ]
  },
  {
   "cell_type": "markdown",
   "id": "3f5e4bf4",
   "metadata": {},
   "source": [
    "### Evaluate the Model"
   ]
  },
  {
   "cell_type": "code",
   "execution_count": 285,
   "id": "316b7384",
   "metadata": {
    "scrolled": true
   },
   "outputs": [
    {
     "data": {
      "image/png": "[encoded data removed]",
      "text/plain": [
       "<Figure size 432x288 with 1 Axes>"
      ]
     },
     "metadata": {
      "needs_background": "light"
     },
     "output_type": "display_data"
    },
    {
     "data": {
      "image/png": "[encoded data removed]",
      "text/plain": [
       "<Figure size 432x288 with 1 Axes>"
      ]
     },
     "metadata": {
      "needs_background": "light"
     },
     "output_type": "display_data"
    }
   ],
   "source": [
    "acc = history.history['accuracy']\n",
    "val_acc = history.history['val_accuracy']\n",
    "loss = history.history['loss']\n",
    "val_loss = history.history['val_loss']\n",
    "\n",
    "epochs = range(len(acc))\n",
    "\n",
    "plt.plot(epochs, acc, 'r', label = 'Training Accuracy')\n",
    "plt.plot(epochs, val_acc, 'b', label = 'Validation Accuracy')\n",
    "plt.title('Training and Validation Accuracy')\n",
    "plt.legend()\n",
    "plt.figure()\n",
    "\n",
    "plt.plot(epochs, loss, 'r', label = 'Training Loss')\n",
    "plt.plot(epochs, val_loss, 'b', label = 'Validation Loss')\n",
    "plt.title('Training and Validation Loss')\n",
    "plt.legend()\n",
    "\n",
    "plt.show()"
   ]
  },
  {
   "cell_type": "markdown",
   "id": "7442e059",
   "metadata": {},
   "source": [
    "# <center>Predicting the Image<center>"
   ]
  },
  {
   "cell_type": "code",
   "execution_count": null,
   "id": "2668bc7b",
   "metadata": {},
   "outputs": [],
   "source": [
    "def predictimage(imgpath):\n",
    "    img_width, img_height = 160, 160\n",
    "    img = image.load_img(imgpath, target_size = (img_width, img_height))\n",
    "    x = image.img_to_array(img) \n",
    "    x /= 255\n",
    "    x = np.expand_dims(x, axis = 0)\n",
    "    images = np.vstack([x])\n",
    "    classes = model.predict(images)\n",
    "    # print(classes)\n",
    "    print(np.argmax(classes, axis = 1))"
   ]
  },
  {
   "cell_type": "code",
   "execution_count": null,
   "id": "ba417764",
   "metadata": {},
   "outputs": [],
   "source": [
    "testing = '/food_images/test/ayam_goreng'\n",
    "\n",
    "for x in os.listdir(testing):\n",
    "    filename = os.path.join(testing + '/' + x)\n",
    "    predictimage(filename)"
   ]
  },
  {
   "cell_type": "code",
   "execution_count": null,
   "id": "52a4fc9d",
   "metadata": {},
   "outputs": [],
   "source": [
    "uploaded=files.upload()\n",
    "\n",
    "for fn in uploaded.keys():\n",
    "    # predicting images\n",
    "    path = '/content/' + fn\n",
    "    img = image.load_img(path, target_size = (160, 160))\n",
    "\n",
    "    x = image.img_to_array(img)\n",
    "    x /= 255\n",
    "    x=np.expand_dims(x, axis = 0)\n",
    "    images = np.vstack([x])\n",
    "\n",
    "    classes = model.predict(images, batch_size=6)\n",
    "    print(classes)\n",
    "\n",
    "    output_class = np.argmax(classes)\n",
    "    classname = [\"ayam_goreng\", \"bakso\", \"batagor\", \"bubur\", \"burger\", \"capcay\", \"crepes\", \"cumi_goreng_tepung\", \"fu_yung_hai\", \"gado_gado\", \"gudeg\", \"ikan_bakar\", \"kebab\", \"rendang\", \"sate\"]\n",
    "    print(\"The predicted class is\", classname[output_class])"
   ]
  }
 ],
 "metadata": {
  "kernelspec": {
   "display_name": "Python 3",
   "language": "python",
   "name": "python3"
  },
  "language_info": {
   "codemirror_mode": {
    "name": "ipython",
    "version": 3
   },
   "file_extension": ".py",
   "mimetype": "text/x-python",
   "name": "python",
   "nbconvert_exporter": "python",
   "pygments_lexer": "ipython3",
   "version": "3.8.8"
  }
 },
 "nbformat": 4,
 "nbformat_minor": 5
}
